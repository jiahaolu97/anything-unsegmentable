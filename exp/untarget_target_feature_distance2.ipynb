{
 "cells": [
  {
   "cell_type": "code",
   "execution_count": 1,
   "metadata": {},
   "outputs": [],
   "source": [
    "import numpy as np\n",
    "import torch\n",
    "import matplotlib.pyplot as plt\n",
    "import cv2\n",
    "\n",
    "import sys\n",
    "import os\n",
    "sys.path.append('..')\n",
    "\n",
    "from attack.eval import *\n",
    "from attack import SamAttacker\n",
    "from utils import *\n",
    "from config import *\n",
    "from segment_anything import sam_model_registry, SamPredictor\n",
    "from FastSAM.fastsam import FastSAM, FastSAMPrompt"
   ]
  },
  {
   "cell_type": "code",
   "execution_count": 2,
   "metadata": {},
   "outputs": [],
   "source": [
    "device = 'cuda:7'\n",
    "samb_model = sam_model_registry[\"vit_b\"](checkpoint=SAM_B_PATH)\n",
    "samb_model.to(device=device)\n",
    "samb = SamAttacker(samb_model)\n",
    "\n",
    "samh_model = sam_model_registry[\"vit_h\"](checkpoint=SAM_H_PATH)\n",
    "samh_model.to(device=device)\n",
    "samh = SamAttacker(samh_model)"
   ]
  },
  {
   "cell_type": "code",
   "execution_count": 3,
   "metadata": {},
   "outputs": [
    {
     "name": "stderr",
     "output_type": "stream",
     "text": [
      "TAP: 100%|██████████| 40/40 [00:07<00:00,  5.24it/s, loss=-4.2e+3]\n"
     ]
    },
    {
     "name": "stdout",
     "output_type": "stream",
     "text": [
      "imgid: 1, cos_sim_b: 0.9249829649925232, cos_sim_h: 0.953687310218811\n"
     ]
    },
    {
     "name": "stderr",
     "output_type": "stream",
     "text": [
      "TAP: 100%|██████████| 40/40 [00:07<00:00,  5.24it/s, loss=-4.44e+3]\n"
     ]
    },
    {
     "name": "stdout",
     "output_type": "stream",
     "text": [
      "imgid: 2, cos_sim_b: 0.6902121901512146, cos_sim_h: 0.8216082453727722\n"
     ]
    },
    {
     "name": "stderr",
     "output_type": "stream",
     "text": [
      "TAP: 100%|██████████| 40/40 [00:07<00:00,  5.20it/s, loss=-4.89e+3]\n"
     ]
    },
    {
     "name": "stdout",
     "output_type": "stream",
     "text": [
      "imgid: 3, cos_sim_b: 0.6388506889343262, cos_sim_h: 0.9023249745368958\n"
     ]
    },
    {
     "name": "stderr",
     "output_type": "stream",
     "text": [
      "TAP: 100%|██████████| 40/40 [00:07<00:00,  5.12it/s, loss=-4.88e+3]\n"
     ]
    },
    {
     "name": "stdout",
     "output_type": "stream",
     "text": [
      "imgid: 4, cos_sim_b: 0.6784124374389648, cos_sim_h: 0.8745529651641846\n"
     ]
    },
    {
     "name": "stderr",
     "output_type": "stream",
     "text": [
      "TAP: 100%|██████████| 40/40 [00:07<00:00,  5.18it/s, loss=-2.4e+3]\n"
     ]
    },
    {
     "name": "stdout",
     "output_type": "stream",
     "text": [
      "imgid: 5, cos_sim_b: 0.9701351523399353, cos_sim_h: 0.9796878099441528\n"
     ]
    },
    {
     "name": "stderr",
     "output_type": "stream",
     "text": [
      "TAP: 100%|██████████| 40/40 [00:07<00:00,  5.05it/s, loss=-2.38e+3]\n"
     ]
    },
    {
     "name": "stdout",
     "output_type": "stream",
     "text": [
      "imgid: 6, cos_sim_b: 0.983056366443634, cos_sim_h: 0.9856880903244019\n"
     ]
    },
    {
     "name": "stderr",
     "output_type": "stream",
     "text": [
      "TAP: 100%|██████████| 40/40 [00:07<00:00,  5.09it/s, loss=-2.21e+3]\n"
     ]
    },
    {
     "name": "stdout",
     "output_type": "stream",
     "text": [
      "imgid: 7, cos_sim_b: 0.978767454624176, cos_sim_h: 0.9801958799362183\n"
     ]
    },
    {
     "name": "stderr",
     "output_type": "stream",
     "text": [
      "TAP: 100%|██████████| 40/40 [00:07<00:00,  5.08it/s, loss=-2.22e+3]\n"
     ]
    },
    {
     "name": "stdout",
     "output_type": "stream",
     "text": [
      "imgid: 8, cos_sim_b: 0.9847105145454407, cos_sim_h: 0.9876922369003296\n"
     ]
    },
    {
     "name": "stderr",
     "output_type": "stream",
     "text": [
      "TAP: 100%|██████████| 40/40 [00:08<00:00,  4.96it/s, loss=-4.46e+3]\n"
     ]
    },
    {
     "name": "stdout",
     "output_type": "stream",
     "text": [
      "imgid: 9, cos_sim_b: 0.7331856489181519, cos_sim_h: 0.9159516096115112\n"
     ]
    },
    {
     "name": "stderr",
     "output_type": "stream",
     "text": [
      "TAP: 100%|██████████| 40/40 [00:08<00:00,  4.94it/s, loss=-4.2e+3]\n"
     ]
    },
    {
     "name": "stdout",
     "output_type": "stream",
     "text": [
      "imgid: 10, cos_sim_b: 0.598065972328186, cos_sim_h: 0.7909742593765259\n"
     ]
    },
    {
     "name": "stderr",
     "output_type": "stream",
     "text": [
      "TAP: 100%|██████████| 40/40 [00:08<00:00,  4.99it/s, loss=-3.83e+3]\n"
     ]
    },
    {
     "name": "stdout",
     "output_type": "stream",
     "text": [
      "imgid: 11, cos_sim_b: 0.8007184267044067, cos_sim_h: 0.901283860206604\n"
     ]
    },
    {
     "name": "stderr",
     "output_type": "stream",
     "text": [
      "TAP: 100%|██████████| 40/40 [00:08<00:00,  4.97it/s, loss=-4.16e+3]\n"
     ]
    },
    {
     "name": "stdout",
     "output_type": "stream",
     "text": [
      "imgid: 12, cos_sim_b: 0.827133059501648, cos_sim_h: 0.9133883118629456\n"
     ]
    },
    {
     "name": "stderr",
     "output_type": "stream",
     "text": [
      "TAP: 100%|██████████| 40/40 [00:08<00:00,  4.87it/s, loss=-4.71e+3]\n"
     ]
    },
    {
     "name": "stdout",
     "output_type": "stream",
     "text": [
      "imgid: 13, cos_sim_b: 0.583880603313446, cos_sim_h: 0.7264215350151062\n"
     ]
    },
    {
     "name": "stderr",
     "output_type": "stream",
     "text": [
      "TAP: 100%|██████████| 40/40 [00:08<00:00,  4.86it/s, loss=-4.28e+3]\n"
     ]
    },
    {
     "name": "stdout",
     "output_type": "stream",
     "text": [
      "imgid: 14, cos_sim_b: 0.43598175048828125, cos_sim_h: 0.8088184595108032\n"
     ]
    },
    {
     "name": "stderr",
     "output_type": "stream",
     "text": [
      "TAP: 100%|██████████| 40/40 [00:08<00:00,  4.91it/s, loss=-4.06e+3]\n"
     ]
    },
    {
     "name": "stdout",
     "output_type": "stream",
     "text": [
      "imgid: 15, cos_sim_b: 0.6326791048049927, cos_sim_h: 0.8501605987548828\n"
     ]
    },
    {
     "name": "stderr",
     "output_type": "stream",
     "text": [
      "TAP: 100%|██████████| 40/40 [00:08<00:00,  4.82it/s, loss=-5.24e+3]\n"
     ]
    },
    {
     "name": "stdout",
     "output_type": "stream",
     "text": [
      "imgid: 16, cos_sim_b: 0.6956252455711365, cos_sim_h: 0.9606984853744507\n"
     ]
    },
    {
     "name": "stderr",
     "output_type": "stream",
     "text": [
      "TAP: 100%|██████████| 40/40 [00:08<00:00,  4.83it/s, loss=-3.32e+3]\n"
     ]
    },
    {
     "name": "stdout",
     "output_type": "stream",
     "text": [
      "imgid: 17, cos_sim_b: 0.809992790222168, cos_sim_h: 0.8991748690605164\n"
     ]
    },
    {
     "name": "stderr",
     "output_type": "stream",
     "text": [
      "TAP: 100%|██████████| 40/40 [00:08<00:00,  4.91it/s, loss=-3.81e+3]\n"
     ]
    },
    {
     "name": "stdout",
     "output_type": "stream",
     "text": [
      "imgid: 18, cos_sim_b: 0.6433894634246826, cos_sim_h: 0.8402957916259766\n"
     ]
    },
    {
     "name": "stderr",
     "output_type": "stream",
     "text": [
      "TAP: 100%|██████████| 40/40 [00:08<00:00,  4.79it/s, loss=-4.65e+3]\n"
     ]
    },
    {
     "name": "stdout",
     "output_type": "stream",
     "text": [
      "imgid: 19, cos_sim_b: 0.5817909240722656, cos_sim_h: 0.8990223407745361\n"
     ]
    },
    {
     "name": "stderr",
     "output_type": "stream",
     "text": [
      "TAP: 100%|██████████| 40/40 [00:08<00:00,  4.80it/s, loss=-3.98e+3]\n"
     ]
    },
    {
     "name": "stdout",
     "output_type": "stream",
     "text": [
      "imgid: 20, cos_sim_b: 0.8342806100845337, cos_sim_h: 0.947307825088501\n"
     ]
    },
    {
     "name": "stderr",
     "output_type": "stream",
     "text": [
      "TAP: 100%|██████████| 40/40 [00:08<00:00,  4.87it/s, loss=-4.84e+3]\n"
     ]
    },
    {
     "name": "stdout",
     "output_type": "stream",
     "text": [
      "imgid: 21, cos_sim_b: 0.7240417003631592, cos_sim_h: 0.9327062964439392\n"
     ]
    },
    {
     "name": "stderr",
     "output_type": "stream",
     "text": [
      "TAP: 100%|██████████| 40/40 [00:08<00:00,  4.86it/s, loss=-4.73e+3]\n"
     ]
    },
    {
     "name": "stdout",
     "output_type": "stream",
     "text": [
      "imgid: 22, cos_sim_b: 0.7742317914962769, cos_sim_h: 0.9333332777023315\n"
     ]
    },
    {
     "name": "stderr",
     "output_type": "stream",
     "text": [
      "TAP: 100%|██████████| 40/40 [00:08<00:00,  4.87it/s, loss=-4.58e+3]\n"
     ]
    },
    {
     "name": "stdout",
     "output_type": "stream",
     "text": [
      "imgid: 23, cos_sim_b: 0.6115135550498962, cos_sim_h: 0.8241689205169678\n"
     ]
    },
    {
     "name": "stderr",
     "output_type": "stream",
     "text": [
      "TAP: 100%|██████████| 40/40 [00:08<00:00,  4.79it/s, loss=-4.05e+3]\n"
     ]
    },
    {
     "name": "stdout",
     "output_type": "stream",
     "text": [
      "imgid: 24, cos_sim_b: 0.6587828397750854, cos_sim_h: 0.8570890426635742\n"
     ]
    },
    {
     "name": "stderr",
     "output_type": "stream",
     "text": [
      "TAP: 100%|██████████| 40/40 [00:08<00:00,  4.86it/s, loss=-4.4e+3]\n"
     ]
    },
    {
     "name": "stdout",
     "output_type": "stream",
     "text": [
      "imgid: 25, cos_sim_b: 0.8521612882614136, cos_sim_h: 0.9357873797416687\n"
     ]
    },
    {
     "name": "stderr",
     "output_type": "stream",
     "text": [
      "TAP: 100%|██████████| 40/40 [00:08<00:00,  4.86it/s, loss=-3.54e+3]\n"
     ]
    },
    {
     "name": "stdout",
     "output_type": "stream",
     "text": [
      "imgid: 26, cos_sim_b: 0.5811483263969421, cos_sim_h: 0.8545181751251221\n"
     ]
    },
    {
     "name": "stderr",
     "output_type": "stream",
     "text": [
      "TAP: 100%|██████████| 40/40 [00:08<00:00,  4.77it/s, loss=-4.64e+3]\n"
     ]
    },
    {
     "name": "stdout",
     "output_type": "stream",
     "text": [
      "imgid: 27, cos_sim_b: 0.8215936422348022, cos_sim_h: 0.9492056965827942\n"
     ]
    },
    {
     "name": "stderr",
     "output_type": "stream",
     "text": [
      "TAP: 100%|██████████| 40/40 [00:08<00:00,  4.79it/s, loss=-2.56e+3]\n"
     ]
    },
    {
     "name": "stdout",
     "output_type": "stream",
     "text": [
      "imgid: 28, cos_sim_b: 0.970557689666748, cos_sim_h: 0.9737508296966553\n"
     ]
    },
    {
     "name": "stderr",
     "output_type": "stream",
     "text": [
      "TAP: 100%|██████████| 40/40 [00:08<00:00,  4.89it/s, loss=-2.88e+3]\n"
     ]
    },
    {
     "name": "stdout",
     "output_type": "stream",
     "text": [
      "imgid: 29, cos_sim_b: 0.9243634939193726, cos_sim_h: 0.9588357210159302\n"
     ]
    },
    {
     "name": "stderr",
     "output_type": "stream",
     "text": [
      "TAP: 100%|██████████| 40/40 [00:08<00:00,  4.88it/s, loss=-2.38e+3]\n"
     ]
    },
    {
     "name": "stdout",
     "output_type": "stream",
     "text": [
      "imgid: 30, cos_sim_b: 0.9716176390647888, cos_sim_h: 0.9753175377845764\n"
     ]
    },
    {
     "name": "stderr",
     "output_type": "stream",
     "text": [
      "TAP: 100%|██████████| 40/40 [00:08<00:00,  4.90it/s, loss=-1.15e+3]\n"
     ]
    },
    {
     "name": "stdout",
     "output_type": "stream",
     "text": [
      "imgid: 31, cos_sim_b: 0.99456387758255, cos_sim_h: 0.9944826364517212\n"
     ]
    },
    {
     "name": "stderr",
     "output_type": "stream",
     "text": [
      "TAP: 100%|██████████| 40/40 [00:08<00:00,  4.79it/s, loss=-4.25e+3]\n"
     ]
    },
    {
     "name": "stdout",
     "output_type": "stream",
     "text": [
      "imgid: 32, cos_sim_b: 0.6678014993667603, cos_sim_h: 0.8545752167701721\n"
     ]
    },
    {
     "name": "stderr",
     "output_type": "stream",
     "text": [
      "TAP: 100%|██████████| 40/40 [00:08<00:00,  4.86it/s, loss=-4.86e+3]\n"
     ]
    },
    {
     "name": "stdout",
     "output_type": "stream",
     "text": [
      "imgid: 33, cos_sim_b: 0.6655340194702148, cos_sim_h: 0.8901324272155762\n"
     ]
    },
    {
     "name": "stderr",
     "output_type": "stream",
     "text": [
      "TAP: 100%|██████████| 40/40 [00:08<00:00,  4.83it/s, loss=-4.72e+3]\n"
     ]
    },
    {
     "name": "stdout",
     "output_type": "stream",
     "text": [
      "imgid: 34, cos_sim_b: 0.6807971596717834, cos_sim_h: 0.7937279939651489\n"
     ]
    },
    {
     "name": "stderr",
     "output_type": "stream",
     "text": [
      "TAP: 100%|██████████| 40/40 [00:08<00:00,  4.89it/s, loss=-2.12e+3]\n"
     ]
    },
    {
     "name": "stdout",
     "output_type": "stream",
     "text": [
      "imgid: 35, cos_sim_b: 0.9829864501953125, cos_sim_h: 0.9819603562355042\n"
     ]
    },
    {
     "name": "stderr",
     "output_type": "stream",
     "text": [
      "TAP: 100%|██████████| 40/40 [00:08<00:00,  4.77it/s, loss=-5.37e+3]\n"
     ]
    },
    {
     "name": "stdout",
     "output_type": "stream",
     "text": [
      "imgid: 36, cos_sim_b: 0.9016496539115906, cos_sim_h: 0.9547532200813293\n"
     ]
    },
    {
     "name": "stderr",
     "output_type": "stream",
     "text": [
      "TAP: 100%|██████████| 40/40 [00:08<00:00,  4.78it/s, loss=-4.18e+3]\n"
     ]
    },
    {
     "name": "stdout",
     "output_type": "stream",
     "text": [
      "imgid: 37, cos_sim_b: 0.7401583194732666, cos_sim_h: 0.9032838940620422\n"
     ]
    },
    {
     "name": "stderr",
     "output_type": "stream",
     "text": [
      "TAP: 100%|██████████| 40/40 [00:08<00:00,  4.78it/s, loss=-2.9e+3]\n"
     ]
    },
    {
     "name": "stdout",
     "output_type": "stream",
     "text": [
      "imgid: 38, cos_sim_b: 0.9016562700271606, cos_sim_h: 0.9472619295120239\n"
     ]
    },
    {
     "name": "stderr",
     "output_type": "stream",
     "text": [
      "TAP: 100%|██████████| 40/40 [00:08<00:00,  4.89it/s, loss=-3.59e+3]\n"
     ]
    },
    {
     "name": "stdout",
     "output_type": "stream",
     "text": [
      "imgid: 39, cos_sim_b: 0.8820837140083313, cos_sim_h: 0.919522762298584\n"
     ]
    },
    {
     "name": "stderr",
     "output_type": "stream",
     "text": [
      "TAP: 100%|██████████| 40/40 [00:08<00:00,  4.78it/s, loss=-5.51e+3]\n"
     ]
    },
    {
     "name": "stdout",
     "output_type": "stream",
     "text": [
      "imgid: 40, cos_sim_b: 0.7547449469566345, cos_sim_h: 0.906994640827179\n"
     ]
    },
    {
     "name": "stderr",
     "output_type": "stream",
     "text": [
      "TAP: 100%|██████████| 40/40 [00:08<00:00,  4.78it/s, loss=-4e+3]  \n"
     ]
    },
    {
     "name": "stdout",
     "output_type": "stream",
     "text": [
      "imgid: 41, cos_sim_b: 0.7275574207305908, cos_sim_h: 0.8733934760093689\n"
     ]
    },
    {
     "name": "stderr",
     "output_type": "stream",
     "text": [
      "TAP: 100%|██████████| 40/40 [00:08<00:00,  4.84it/s, loss=-4.72e+3]\n"
     ]
    },
    {
     "name": "stdout",
     "output_type": "stream",
     "text": [
      "imgid: 42, cos_sim_b: 0.6582884788513184, cos_sim_h: 0.8586543798446655\n"
     ]
    },
    {
     "name": "stderr",
     "output_type": "stream",
     "text": [
      "TAP: 100%|██████████| 40/40 [00:08<00:00,  4.87it/s, loss=-4.72e+3]\n"
     ]
    },
    {
     "name": "stdout",
     "output_type": "stream",
     "text": [
      "imgid: 43, cos_sim_b: 0.7560257911682129, cos_sim_h: 0.9350287914276123\n"
     ]
    },
    {
     "name": "stderr",
     "output_type": "stream",
     "text": [
      "TAP: 100%|██████████| 40/40 [00:08<00:00,  4.80it/s, loss=-2.93e+3]\n"
     ]
    },
    {
     "name": "stdout",
     "output_type": "stream",
     "text": [
      "imgid: 44, cos_sim_b: 0.9210389852523804, cos_sim_h: 0.9485116004943848\n"
     ]
    },
    {
     "name": "stderr",
     "output_type": "stream",
     "text": [
      "TAP: 100%|██████████| 40/40 [00:08<00:00,  4.78it/s, loss=-4.56e+3]\n"
     ]
    },
    {
     "name": "stdout",
     "output_type": "stream",
     "text": [
      "imgid: 45, cos_sim_b: 0.5931926965713501, cos_sim_h: 0.7758640050888062\n"
     ]
    },
    {
     "name": "stderr",
     "output_type": "stream",
     "text": [
      "TAP: 100%|██████████| 40/40 [00:08<00:00,  4.84it/s, loss=-4.84e+3]\n"
     ]
    },
    {
     "name": "stdout",
     "output_type": "stream",
     "text": [
      "imgid: 46, cos_sim_b: 0.691673755645752, cos_sim_h: 0.8694264888763428\n"
     ]
    },
    {
     "name": "stderr",
     "output_type": "stream",
     "text": [
      "TAP: 100%|██████████| 40/40 [00:08<00:00,  4.85it/s, loss=-4.5e+3]\n"
     ]
    },
    {
     "name": "stdout",
     "output_type": "stream",
     "text": [
      "imgid: 47, cos_sim_b: 0.5137104392051697, cos_sim_h: 0.6928467750549316\n"
     ]
    },
    {
     "name": "stderr",
     "output_type": "stream",
     "text": [
      "TAP: 100%|██████████| 40/40 [00:08<00:00,  4.77it/s, loss=-4.85e+3]\n"
     ]
    },
    {
     "name": "stdout",
     "output_type": "stream",
     "text": [
      "imgid: 48, cos_sim_b: 0.7443209290504456, cos_sim_h: 0.8876579403877258\n"
     ]
    },
    {
     "name": "stderr",
     "output_type": "stream",
     "text": [
      "TAP: 100%|██████████| 40/40 [00:08<00:00,  4.88it/s, loss=-3.08e+3]\n"
     ]
    },
    {
     "name": "stdout",
     "output_type": "stream",
     "text": [
      "imgid: 49, cos_sim_b: 0.8335349559783936, cos_sim_h: 0.922429084777832\n"
     ]
    },
    {
     "name": "stderr",
     "output_type": "stream",
     "text": [
      "TAP: 100%|██████████| 40/40 [00:08<00:00,  4.76it/s, loss=-4.88e+3]\n"
     ]
    },
    {
     "name": "stdout",
     "output_type": "stream",
     "text": [
      "imgid: 50, cos_sim_b: 0.6783674955368042, cos_sim_h: 0.8422374725341797\n"
     ]
    },
    {
     "name": "stderr",
     "output_type": "stream",
     "text": [
      "TAP: 100%|██████████| 40/40 [00:08<00:00,  4.78it/s, loss=-5e+3]   \n"
     ]
    },
    {
     "name": "stdout",
     "output_type": "stream",
     "text": [
      "imgid: 51, cos_sim_b: 0.7686324119567871, cos_sim_h: 0.9371246099472046\n"
     ]
    },
    {
     "name": "stderr",
     "output_type": "stream",
     "text": [
      "TAP: 100%|██████████| 40/40 [00:08<00:00,  4.80it/s, loss=-3.89e+3]\n"
     ]
    },
    {
     "name": "stdout",
     "output_type": "stream",
     "text": [
      "imgid: 52, cos_sim_b: 0.7384295463562012, cos_sim_h: 0.8103262186050415\n"
     ]
    },
    {
     "name": "stderr",
     "output_type": "stream",
     "text": [
      "TAP: 100%|██████████| 40/40 [00:08<00:00,  4.79it/s, loss=-3.98e+3]\n"
     ]
    },
    {
     "name": "stdout",
     "output_type": "stream",
     "text": [
      "imgid: 53, cos_sim_b: 0.8135730028152466, cos_sim_h: 0.9492900371551514\n"
     ]
    },
    {
     "name": "stderr",
     "output_type": "stream",
     "text": [
      "TAP: 100%|██████████| 40/40 [00:08<00:00,  4.77it/s, loss=-5.2e+3] \n"
     ]
    },
    {
     "name": "stdout",
     "output_type": "stream",
     "text": [
      "imgid: 54, cos_sim_b: 0.7164449691772461, cos_sim_h: 0.8594540953636169\n"
     ]
    },
    {
     "name": "stderr",
     "output_type": "stream",
     "text": [
      "TAP: 100%|██████████| 40/40 [00:08<00:00,  4.78it/s, loss=-3.4e+3]\n"
     ]
    },
    {
     "name": "stdout",
     "output_type": "stream",
     "text": [
      "imgid: 55, cos_sim_b: 0.8095583915710449, cos_sim_h: 0.92473304271698\n"
     ]
    },
    {
     "name": "stderr",
     "output_type": "stream",
     "text": [
      "TAP: 100%|██████████| 40/40 [00:08<00:00,  4.86it/s, loss=-4.34e+3]\n"
     ]
    },
    {
     "name": "stdout",
     "output_type": "stream",
     "text": [
      "imgid: 56, cos_sim_b: 0.8300362229347229, cos_sim_h: 0.9262847900390625\n"
     ]
    },
    {
     "name": "stderr",
     "output_type": "stream",
     "text": [
      "TAP: 100%|██████████| 40/40 [00:08<00:00,  4.78it/s, loss=-3.44e+3]\n"
     ]
    },
    {
     "name": "stdout",
     "output_type": "stream",
     "text": [
      "imgid: 57, cos_sim_b: 0.8364138603210449, cos_sim_h: 0.9283626079559326\n"
     ]
    },
    {
     "name": "stderr",
     "output_type": "stream",
     "text": [
      "TAP: 100%|██████████| 40/40 [00:08<00:00,  4.88it/s, loss=-4.34e+3]\n"
     ]
    },
    {
     "name": "stdout",
     "output_type": "stream",
     "text": [
      "imgid: 58, cos_sim_b: 0.6373302936553955, cos_sim_h: 0.8226989507675171\n"
     ]
    },
    {
     "name": "stderr",
     "output_type": "stream",
     "text": [
      "TAP: 100%|██████████| 40/40 [00:08<00:00,  4.75it/s, loss=-5.09e+3]\n"
     ]
    },
    {
     "name": "stdout",
     "output_type": "stream",
     "text": [
      "imgid: 59, cos_sim_b: 0.7991386651992798, cos_sim_h: 0.9331765174865723\n"
     ]
    },
    {
     "name": "stderr",
     "output_type": "stream",
     "text": [
      "TAP: 100%|██████████| 40/40 [00:08<00:00,  4.87it/s, loss=-3.9e+3]\n"
     ]
    },
    {
     "name": "stdout",
     "output_type": "stream",
     "text": [
      "imgid: 60, cos_sim_b: 0.80510014295578, cos_sim_h: 0.920930802822113\n"
     ]
    },
    {
     "name": "stderr",
     "output_type": "stream",
     "text": [
      "TAP: 100%|██████████| 40/40 [00:08<00:00,  4.79it/s, loss=-4.44e+3]\n"
     ]
    },
    {
     "name": "stdout",
     "output_type": "stream",
     "text": [
      "imgid: 61, cos_sim_b: 0.7445076107978821, cos_sim_h: 0.8756994009017944\n"
     ]
    },
    {
     "name": "stderr",
     "output_type": "stream",
     "text": [
      "TAP: 100%|██████████| 40/40 [00:08<00:00,  4.90it/s, loss=-3.85e+3]\n"
     ]
    },
    {
     "name": "stdout",
     "output_type": "stream",
     "text": [
      "imgid: 62, cos_sim_b: 0.7334706783294678, cos_sim_h: 0.8498104810714722\n"
     ]
    },
    {
     "name": "stderr",
     "output_type": "stream",
     "text": [
      "TAP: 100%|██████████| 40/40 [00:08<00:00,  4.81it/s, loss=-2.26e+3]\n"
     ]
    },
    {
     "name": "stdout",
     "output_type": "stream",
     "text": [
      "imgid: 63, cos_sim_b: 0.9843531847000122, cos_sim_h: 0.9837359189987183\n"
     ]
    },
    {
     "name": "stderr",
     "output_type": "stream",
     "text": [
      "TAP: 100%|██████████| 40/40 [00:08<00:00,  4.88it/s, loss=-2.98e+3]\n"
     ]
    },
    {
     "name": "stdout",
     "output_type": "stream",
     "text": [
      "imgid: 64, cos_sim_b: 0.8921533226966858, cos_sim_h: 0.9395477771759033\n"
     ]
    },
    {
     "name": "stderr",
     "output_type": "stream",
     "text": [
      "TAP: 100%|██████████| 40/40 [00:08<00:00,  4.77it/s, loss=-4.75e+3]\n"
     ]
    },
    {
     "name": "stdout",
     "output_type": "stream",
     "text": [
      "imgid: 65, cos_sim_b: 0.6621147394180298, cos_sim_h: 0.8795226812362671\n"
     ]
    },
    {
     "name": "stderr",
     "output_type": "stream",
     "text": [
      "TAP: 100%|██████████| 40/40 [00:08<00:00,  4.79it/s, loss=-4.37e+3]\n"
     ]
    },
    {
     "name": "stdout",
     "output_type": "stream",
     "text": [
      "imgid: 66, cos_sim_b: 0.7713662385940552, cos_sim_h: 0.9013137221336365\n"
     ]
    },
    {
     "name": "stderr",
     "output_type": "stream",
     "text": [
      "TAP: 100%|██████████| 40/40 [00:08<00:00,  4.86it/s, loss=-3.32e+3]\n"
     ]
    },
    {
     "name": "stdout",
     "output_type": "stream",
     "text": [
      "imgid: 67, cos_sim_b: 0.8954921960830688, cos_sim_h: 0.9551249742507935\n"
     ]
    },
    {
     "name": "stderr",
     "output_type": "stream",
     "text": [
      "TAP: 100%|██████████| 40/40 [00:08<00:00,  4.89it/s, loss=-2.24e+3]\n"
     ]
    },
    {
     "name": "stdout",
     "output_type": "stream",
     "text": [
      "imgid: 68, cos_sim_b: 0.9523695707321167, cos_sim_h: 0.9668960571289062\n"
     ]
    },
    {
     "name": "stderr",
     "output_type": "stream",
     "text": [
      "TAP: 100%|██████████| 40/40 [00:08<00:00,  4.88it/s, loss=-2.94e+3]\n"
     ]
    },
    {
     "name": "stdout",
     "output_type": "stream",
     "text": [
      "imgid: 69, cos_sim_b: 0.9143905639648438, cos_sim_h: 0.9460006952285767\n"
     ]
    },
    {
     "name": "stderr",
     "output_type": "stream",
     "text": [
      "TAP: 100%|██████████| 40/40 [00:08<00:00,  4.78it/s, loss=-3.49e+3]\n"
     ]
    },
    {
     "name": "stdout",
     "output_type": "stream",
     "text": [
      "imgid: 70, cos_sim_b: 0.9119114279747009, cos_sim_h: 0.9478693008422852\n"
     ]
    },
    {
     "name": "stderr",
     "output_type": "stream",
     "text": [
      "TAP: 100%|██████████| 40/40 [00:08<00:00,  4.89it/s, loss=-2.22e+3]\n"
     ]
    },
    {
     "name": "stdout",
     "output_type": "stream",
     "text": [
      "imgid: 71, cos_sim_b: 0.9891481399536133, cos_sim_h: 0.9912087917327881\n"
     ]
    },
    {
     "name": "stderr",
     "output_type": "stream",
     "text": [
      "TAP: 100%|██████████| 40/40 [00:08<00:00,  4.79it/s, loss=-4.1e+3]\n"
     ]
    },
    {
     "name": "stdout",
     "output_type": "stream",
     "text": [
      "imgid: 72, cos_sim_b: 0.8057495355606079, cos_sim_h: 0.9038910865783691\n"
     ]
    },
    {
     "name": "stderr",
     "output_type": "stream",
     "text": [
      "TAP: 100%|██████████| 40/40 [00:08<00:00,  4.79it/s, loss=-4.1e+3]\n"
     ]
    },
    {
     "name": "stdout",
     "output_type": "stream",
     "text": [
      "imgid: 73, cos_sim_b: 0.887671172618866, cos_sim_h: 0.9273433089256287\n"
     ]
    },
    {
     "name": "stderr",
     "output_type": "stream",
     "text": [
      "TAP: 100%|██████████| 40/40 [00:08<00:00,  4.78it/s, loss=-5.16e+3]\n"
     ]
    },
    {
     "name": "stdout",
     "output_type": "stream",
     "text": [
      "imgid: 74, cos_sim_b: 0.924302875995636, cos_sim_h: 0.980738639831543\n"
     ]
    },
    {
     "name": "stderr",
     "output_type": "stream",
     "text": [
      "TAP: 100%|██████████| 40/40 [00:08<00:00,  4.79it/s, loss=-3.34e+3]\n"
     ]
    },
    {
     "name": "stdout",
     "output_type": "stream",
     "text": [
      "imgid: 75, cos_sim_b: 0.8840012550354004, cos_sim_h: 0.9301471710205078\n"
     ]
    },
    {
     "name": "stderr",
     "output_type": "stream",
     "text": [
      "TAP: 100%|██████████| 40/40 [00:08<00:00,  4.80it/s, loss=-2.3e+3]\n"
     ]
    },
    {
     "name": "stdout",
     "output_type": "stream",
     "text": [
      "imgid: 76, cos_sim_b: 0.9782230854034424, cos_sim_h: 0.9830114841461182\n"
     ]
    },
    {
     "name": "stderr",
     "output_type": "stream",
     "text": [
      "TAP: 100%|██████████| 40/40 [00:08<00:00,  4.90it/s, loss=-2.31e+3]\n"
     ]
    },
    {
     "name": "stdout",
     "output_type": "stream",
     "text": [
      "imgid: 77, cos_sim_b: 0.9750508666038513, cos_sim_h: 0.9742667078971863\n"
     ]
    },
    {
     "name": "stderr",
     "output_type": "stream",
     "text": [
      "TAP: 100%|██████████| 40/40 [00:08<00:00,  4.88it/s, loss=-4.17e+3]\n"
     ]
    },
    {
     "name": "stdout",
     "output_type": "stream",
     "text": [
      "imgid: 78, cos_sim_b: 0.5956501960754395, cos_sim_h: 0.8556338548660278\n"
     ]
    },
    {
     "name": "stderr",
     "output_type": "stream",
     "text": [
      "TAP: 100%|██████████| 40/40 [00:08<00:00,  4.87it/s, loss=-4.46e+3]\n"
     ]
    },
    {
     "name": "stdout",
     "output_type": "stream",
     "text": [
      "imgid: 79, cos_sim_b: 0.7317808866500854, cos_sim_h: 0.8526386618614197\n"
     ]
    },
    {
     "name": "stderr",
     "output_type": "stream",
     "text": [
      "TAP: 100%|██████████| 40/40 [00:08<00:00,  4.90it/s, loss=-3.01e+3]\n"
     ]
    },
    {
     "name": "stdout",
     "output_type": "stream",
     "text": [
      "imgid: 80, cos_sim_b: 0.9053479433059692, cos_sim_h: 0.9471176266670227\n"
     ]
    },
    {
     "name": "stderr",
     "output_type": "stream",
     "text": [
      "TAP: 100%|██████████| 40/40 [00:08<00:00,  4.90it/s, loss=-4.05e+3]\n"
     ]
    },
    {
     "name": "stdout",
     "output_type": "stream",
     "text": [
      "imgid: 81, cos_sim_b: 0.6099675893783569, cos_sim_h: 0.8297604322433472\n"
     ]
    },
    {
     "name": "stderr",
     "output_type": "stream",
     "text": [
      "TAP: 100%|██████████| 40/40 [00:08<00:00,  4.80it/s, loss=-4.74e+3]\n"
     ]
    },
    {
     "name": "stdout",
     "output_type": "stream",
     "text": [
      "imgid: 82, cos_sim_b: 0.7112345695495605, cos_sim_h: 0.8875009417533875\n"
     ]
    },
    {
     "name": "stderr",
     "output_type": "stream",
     "text": [
      "TAP: 100%|██████████| 40/40 [00:08<00:00,  4.78it/s, loss=-4.61e+3]\n"
     ]
    },
    {
     "name": "stdout",
     "output_type": "stream",
     "text": [
      "imgid: 83, cos_sim_b: 0.8411766886711121, cos_sim_h: 0.9258706569671631\n"
     ]
    },
    {
     "name": "stderr",
     "output_type": "stream",
     "text": [
      "TAP: 100%|██████████| 40/40 [00:08<00:00,  4.79it/s, loss=-3.4e+3]\n"
     ]
    },
    {
     "name": "stdout",
     "output_type": "stream",
     "text": [
      "imgid: 84, cos_sim_b: 0.8538047075271606, cos_sim_h: 0.9299947023391724\n"
     ]
    },
    {
     "name": "stderr",
     "output_type": "stream",
     "text": [
      "TAP: 100%|██████████| 40/40 [00:08<00:00,  4.79it/s, loss=-4.23e+3]\n"
     ]
    },
    {
     "name": "stdout",
     "output_type": "stream",
     "text": [
      "imgid: 85, cos_sim_b: 0.7125454545021057, cos_sim_h: 0.891190767288208\n"
     ]
    },
    {
     "name": "stderr",
     "output_type": "stream",
     "text": [
      "TAP: 100%|██████████| 40/40 [00:08<00:00,  4.78it/s, loss=-2.43e+3]\n"
     ]
    },
    {
     "name": "stdout",
     "output_type": "stream",
     "text": [
      "imgid: 86, cos_sim_b: 0.9693822860717773, cos_sim_h: 0.9657139778137207\n"
     ]
    },
    {
     "name": "stderr",
     "output_type": "stream",
     "text": [
      "TAP: 100%|██████████| 40/40 [00:08<00:00,  4.80it/s, loss=-5.07e+3]\n"
     ]
    },
    {
     "name": "stdout",
     "output_type": "stream",
     "text": [
      "imgid: 87, cos_sim_b: 0.7139441967010498, cos_sim_h: 0.9358210563659668\n"
     ]
    },
    {
     "name": "stderr",
     "output_type": "stream",
     "text": [
      "TAP: 100%|██████████| 40/40 [00:08<00:00,  4.78it/s, loss=-3e+3]  \n"
     ]
    },
    {
     "name": "stdout",
     "output_type": "stream",
     "text": [
      "imgid: 88, cos_sim_b: 0.8852063417434692, cos_sim_h: 0.9572437405586243\n"
     ]
    },
    {
     "name": "stderr",
     "output_type": "stream",
     "text": [
      "TAP: 100%|██████████| 40/40 [00:08<00:00,  4.77it/s, loss=-4.41e+3]\n"
     ]
    },
    {
     "name": "stdout",
     "output_type": "stream",
     "text": [
      "imgid: 89, cos_sim_b: 0.8861656188964844, cos_sim_h: 0.9604527354240417\n"
     ]
    },
    {
     "name": "stderr",
     "output_type": "stream",
     "text": [
      "TAP: 100%|██████████| 40/40 [00:08<00:00,  4.78it/s, loss=-4.92e+3]\n"
     ]
    },
    {
     "name": "stdout",
     "output_type": "stream",
     "text": [
      "imgid: 90, cos_sim_b: 0.7319426536560059, cos_sim_h: 0.9041615128517151\n"
     ]
    },
    {
     "name": "stderr",
     "output_type": "stream",
     "text": [
      "TAP: 100%|██████████| 40/40 [00:08<00:00,  4.83it/s, loss=-5.31e+3]\n"
     ]
    },
    {
     "name": "stdout",
     "output_type": "stream",
     "text": [
      "imgid: 91, cos_sim_b: 0.7548291087150574, cos_sim_h: 0.8989609479904175\n"
     ]
    },
    {
     "name": "stderr",
     "output_type": "stream",
     "text": [
      "TAP: 100%|██████████| 40/40 [00:08<00:00,  4.80it/s, loss=-5.52e+3]\n"
     ]
    },
    {
     "name": "stdout",
     "output_type": "stream",
     "text": [
      "imgid: 92, cos_sim_b: 0.6598368883132935, cos_sim_h: 0.909293532371521\n"
     ]
    },
    {
     "name": "stderr",
     "output_type": "stream",
     "text": [
      "TAP: 100%|██████████| 40/40 [00:08<00:00,  4.84it/s, loss=-4.84e+3]\n"
     ]
    },
    {
     "name": "stdout",
     "output_type": "stream",
     "text": [
      "imgid: 93, cos_sim_b: 0.6909970045089722, cos_sim_h: 0.8459319472312927\n"
     ]
    },
    {
     "name": "stderr",
     "output_type": "stream",
     "text": [
      "TAP: 100%|██████████| 40/40 [00:08<00:00,  4.78it/s, loss=-4.89e+3]\n"
     ]
    },
    {
     "name": "stdout",
     "output_type": "stream",
     "text": [
      "imgid: 94, cos_sim_b: 0.7587252855300903, cos_sim_h: 0.9174092411994934\n"
     ]
    },
    {
     "name": "stderr",
     "output_type": "stream",
     "text": [
      "TAP: 100%|██████████| 40/40 [00:08<00:00,  4.78it/s, loss=-4.84e+3]\n"
     ]
    },
    {
     "name": "stdout",
     "output_type": "stream",
     "text": [
      "imgid: 95, cos_sim_b: 0.7238869667053223, cos_sim_h: 0.887590765953064\n"
     ]
    },
    {
     "name": "stderr",
     "output_type": "stream",
     "text": [
      "TAP: 100%|██████████| 40/40 [00:08<00:00,  4.89it/s, loss=-2.23e+3]\n"
     ]
    },
    {
     "name": "stdout",
     "output_type": "stream",
     "text": [
      "imgid: 96, cos_sim_b: 0.9867801666259766, cos_sim_h: 0.9855254888534546\n"
     ]
    },
    {
     "name": "stderr",
     "output_type": "stream",
     "text": [
      "TAP: 100%|██████████| 40/40 [00:08<00:00,  4.83it/s, loss=-4.77e+3]\n"
     ]
    },
    {
     "name": "stdout",
     "output_type": "stream",
     "text": [
      "imgid: 97, cos_sim_b: 0.5849481821060181, cos_sim_h: 0.8158804774284363\n"
     ]
    },
    {
     "name": "stderr",
     "output_type": "stream",
     "text": [
      "TAP: 100%|██████████| 40/40 [00:08<00:00,  4.79it/s, loss=-3.99e+3]\n"
     ]
    },
    {
     "name": "stdout",
     "output_type": "stream",
     "text": [
      "imgid: 98, cos_sim_b: 0.6342463493347168, cos_sim_h: 0.7832287549972534\n"
     ]
    },
    {
     "name": "stderr",
     "output_type": "stream",
     "text": [
      "TAP: 100%|██████████| 40/40 [00:08<00:00,  4.86it/s, loss=-4.47e+3]\n"
     ]
    },
    {
     "name": "stdout",
     "output_type": "stream",
     "text": [
      "imgid: 99, cos_sim_b: 0.789229691028595, cos_sim_h: 0.938491702079773\n"
     ]
    },
    {
     "name": "stderr",
     "output_type": "stream",
     "text": [
      "TAP: 100%|██████████| 40/40 [00:08<00:00,  4.85it/s, loss=-5.23e+3]\n"
     ]
    },
    {
     "name": "stdout",
     "output_type": "stream",
     "text": [
      "imgid: 100, cos_sim_b: 0.6495608687400818, cos_sim_h: 0.854763388633728\n"
     ]
    },
    {
     "name": "stderr",
     "output_type": "stream",
     "text": [
      "TAP: 100%|██████████| 40/40 [00:08<00:00,  4.88it/s, loss=-4.69e+3]\n"
     ]
    },
    {
     "name": "stdout",
     "output_type": "stream",
     "text": [
      "imgid: 101, cos_sim_b: 0.6592535376548767, cos_sim_h: 0.8710572719573975\n"
     ]
    },
    {
     "name": "stderr",
     "output_type": "stream",
     "text": [
      "TAP: 100%|██████████| 40/40 [00:08<00:00,  4.80it/s, loss=-4.73e+3]\n"
     ]
    },
    {
     "name": "stdout",
     "output_type": "stream",
     "text": [
      "imgid: 102, cos_sim_b: 0.7634207010269165, cos_sim_h: 0.8792627453804016\n"
     ]
    },
    {
     "name": "stderr",
     "output_type": "stream",
     "text": [
      "TAP: 100%|██████████| 40/40 [00:08<00:00,  4.89it/s, loss=-4.02e+3]\n"
     ]
    },
    {
     "name": "stdout",
     "output_type": "stream",
     "text": [
      "imgid: 103, cos_sim_b: 0.8840196132659912, cos_sim_h: 0.9022535085678101\n"
     ]
    },
    {
     "name": "stderr",
     "output_type": "stream",
     "text": [
      "TAP: 100%|██████████| 40/40 [00:08<00:00,  4.89it/s, loss=-4.73e+3]\n"
     ]
    },
    {
     "name": "stdout",
     "output_type": "stream",
     "text": [
      "imgid: 104, cos_sim_b: 0.6252316236495972, cos_sim_h: 0.794233500957489\n"
     ]
    },
    {
     "name": "stderr",
     "output_type": "stream",
     "text": [
      "TAP: 100%|██████████| 40/40 [00:08<00:00,  4.90it/s, loss=-3.54e+3]\n"
     ]
    },
    {
     "name": "stdout",
     "output_type": "stream",
     "text": [
      "imgid: 105, cos_sim_b: 0.861456036567688, cos_sim_h: 0.9158159494400024\n"
     ]
    },
    {
     "name": "stderr",
     "output_type": "stream",
     "text": [
      "TAP: 100%|██████████| 40/40 [00:08<00:00,  4.80it/s, loss=-2.28e+3]\n"
     ]
    },
    {
     "name": "stdout",
     "output_type": "stream",
     "text": [
      "imgid: 106, cos_sim_b: 0.978303074836731, cos_sim_h: 0.9803436994552612\n"
     ]
    },
    {
     "name": "stderr",
     "output_type": "stream",
     "text": [
      "TAP: 100%|██████████| 40/40 [00:08<00:00,  4.79it/s, loss=-3.11e+3]\n"
     ]
    },
    {
     "name": "stdout",
     "output_type": "stream",
     "text": [
      "imgid: 107, cos_sim_b: 0.8142392635345459, cos_sim_h: 0.9032565355300903\n"
     ]
    },
    {
     "name": "stderr",
     "output_type": "stream",
     "text": [
      "TAP: 100%|██████████| 40/40 [00:08<00:00,  4.79it/s, loss=-3.19e+3]\n"
     ]
    },
    {
     "name": "stdout",
     "output_type": "stream",
     "text": [
      "imgid: 108, cos_sim_b: 0.8621152639389038, cos_sim_h: 0.9197481870651245\n"
     ]
    },
    {
     "name": "stderr",
     "output_type": "stream",
     "text": [
      "TAP: 100%|██████████| 40/40 [00:08<00:00,  4.78it/s, loss=-3.18e+3]\n"
     ]
    },
    {
     "name": "stdout",
     "output_type": "stream",
     "text": [
      "imgid: 109, cos_sim_b: 0.9114025831222534, cos_sim_h: 0.9567275643348694\n"
     ]
    },
    {
     "name": "stderr",
     "output_type": "stream",
     "text": [
      "TAP: 100%|██████████| 40/40 [00:08<00:00,  4.77it/s, loss=-3.8e+3]\n"
     ]
    },
    {
     "name": "stdout",
     "output_type": "stream",
     "text": [
      "imgid: 110, cos_sim_b: 0.686136782169342, cos_sim_h: 0.8697611093521118\n"
     ]
    },
    {
     "name": "stderr",
     "output_type": "stream",
     "text": [
      "TAP: 100%|██████████| 40/40 [00:08<00:00,  4.78it/s, loss=-4.69e+3]\n"
     ]
    },
    {
     "name": "stdout",
     "output_type": "stream",
     "text": [
      "imgid: 111, cos_sim_b: 0.6936155557632446, cos_sim_h: 0.7973402738571167\n"
     ]
    },
    {
     "name": "stderr",
     "output_type": "stream",
     "text": [
      "TAP: 100%|██████████| 40/40 [00:08<00:00,  4.75it/s, loss=-5.27e+3]\n"
     ]
    },
    {
     "name": "stdout",
     "output_type": "stream",
     "text": [
      "imgid: 112, cos_sim_b: 0.8175808191299438, cos_sim_h: 0.9558743238449097\n"
     ]
    },
    {
     "name": "stderr",
     "output_type": "stream",
     "text": [
      "TAP: 100%|██████████| 40/40 [00:08<00:00,  4.75it/s, loss=-4.13e+3]\n"
     ]
    },
    {
     "name": "stdout",
     "output_type": "stream",
     "text": [
      "imgid: 113, cos_sim_b: 0.7649351358413696, cos_sim_h: 0.8342252373695374\n"
     ]
    },
    {
     "name": "stderr",
     "output_type": "stream",
     "text": [
      "TAP: 100%|██████████| 40/40 [00:08<00:00,  4.75it/s, loss=-5.79e+3]\n"
     ]
    },
    {
     "name": "stdout",
     "output_type": "stream",
     "text": [
      "imgid: 114, cos_sim_b: 0.7052624821662903, cos_sim_h: 0.9622557163238525\n"
     ]
    },
    {
     "name": "stderr",
     "output_type": "stream",
     "text": [
      "TAP: 100%|██████████| 40/40 [00:08<00:00,  4.76it/s, loss=-4.2e+3]\n"
     ]
    },
    {
     "name": "stdout",
     "output_type": "stream",
     "text": [
      "imgid: 115, cos_sim_b: 0.7695133686065674, cos_sim_h: 0.9194754362106323\n"
     ]
    },
    {
     "name": "stderr",
     "output_type": "stream",
     "text": [
      "TAP: 100%|██████████| 40/40 [00:08<00:00,  4.82it/s, loss=-4.79e+3]\n"
     ]
    },
    {
     "name": "stdout",
     "output_type": "stream",
     "text": [
      "imgid: 116, cos_sim_b: 0.7665965557098389, cos_sim_h: 0.9586338996887207\n"
     ]
    },
    {
     "name": "stderr",
     "output_type": "stream",
     "text": [
      "TAP: 100%|██████████| 40/40 [00:08<00:00,  4.78it/s, loss=-2.18e+3]\n"
     ]
    },
    {
     "name": "stdout",
     "output_type": "stream",
     "text": [
      "imgid: 117, cos_sim_b: 0.9833745956420898, cos_sim_h: 0.9859366416931152\n"
     ]
    },
    {
     "name": "stderr",
     "output_type": "stream",
     "text": [
      "TAP: 100%|██████████| 40/40 [00:08<00:00,  4.75it/s, loss=-4.47e+3]\n"
     ]
    },
    {
     "name": "stdout",
     "output_type": "stream",
     "text": [
      "imgid: 118, cos_sim_b: 0.8325049877166748, cos_sim_h: 0.9450284838676453\n"
     ]
    },
    {
     "name": "stderr",
     "output_type": "stream",
     "text": [
      "TAP: 100%|██████████| 40/40 [00:08<00:00,  4.78it/s, loss=-4.44e+3]\n"
     ]
    },
    {
     "name": "stdout",
     "output_type": "stream",
     "text": [
      "imgid: 119, cos_sim_b: 0.6795929670333862, cos_sim_h: 0.8577499389648438\n"
     ]
    },
    {
     "name": "stderr",
     "output_type": "stream",
     "text": [
      "TAP: 100%|██████████| 40/40 [00:08<00:00,  4.79it/s, loss=-3.52e+3]\n"
     ]
    },
    {
     "name": "stdout",
     "output_type": "stream",
     "text": [
      "imgid: 120, cos_sim_b: 0.8755514025688171, cos_sim_h: 0.9443322420120239\n"
     ]
    },
    {
     "name": "stderr",
     "output_type": "stream",
     "text": [
      "TAP: 100%|██████████| 40/40 [00:08<00:00,  4.91it/s, loss=-2.19e+3]\n"
     ]
    },
    {
     "name": "stdout",
     "output_type": "stream",
     "text": [
      "imgid: 121, cos_sim_b: 0.9848774671554565, cos_sim_h: 0.9862563014030457\n"
     ]
    },
    {
     "name": "stderr",
     "output_type": "stream",
     "text": [
      "TAP: 100%|██████████| 40/40 [00:08<00:00,  4.78it/s, loss=-5.02e+3]\n"
     ]
    },
    {
     "name": "stdout",
     "output_type": "stream",
     "text": [
      "imgid: 122, cos_sim_b: 0.7267582416534424, cos_sim_h: 0.8679264187812805\n"
     ]
    },
    {
     "name": "stderr",
     "output_type": "stream",
     "text": [
      "TAP: 100%|██████████| 40/40 [00:08<00:00,  4.79it/s, loss=-2.51e+3]\n"
     ]
    },
    {
     "name": "stdout",
     "output_type": "stream",
     "text": [
      "imgid: 123, cos_sim_b: 0.9793701767921448, cos_sim_h: 0.9813896417617798\n"
     ]
    },
    {
     "name": "stderr",
     "output_type": "stream",
     "text": [
      "TAP: 100%|██████████| 40/40 [00:08<00:00,  4.78it/s, loss=-2.3e+3]\n"
     ]
    },
    {
     "name": "stdout",
     "output_type": "stream",
     "text": [
      "imgid: 124, cos_sim_b: 0.9729048013687134, cos_sim_h: 0.9719539284706116\n"
     ]
    },
    {
     "name": "stderr",
     "output_type": "stream",
     "text": [
      "TAP: 100%|██████████| 40/40 [00:08<00:00,  4.86it/s, loss=-3.75e+3]\n"
     ]
    },
    {
     "name": "stdout",
     "output_type": "stream",
     "text": [
      "imgid: 125, cos_sim_b: 0.8133014440536499, cos_sim_h: 0.9606459140777588\n"
     ]
    },
    {
     "name": "stderr",
     "output_type": "stream",
     "text": [
      "TAP: 100%|██████████| 40/40 [00:08<00:00,  4.77it/s, loss=-3.82e+3]\n"
     ]
    },
    {
     "name": "stdout",
     "output_type": "stream",
     "text": [
      "imgid: 126, cos_sim_b: 0.8546891808509827, cos_sim_h: 0.9317917227745056\n"
     ]
    },
    {
     "name": "stderr",
     "output_type": "stream",
     "text": [
      "TAP: 100%|██████████| 40/40 [00:08<00:00,  4.86it/s, loss=-3.98e+3]\n"
     ]
    },
    {
     "name": "stdout",
     "output_type": "stream",
     "text": [
      "imgid: 127, cos_sim_b: 0.7952170372009277, cos_sim_h: 0.9317457675933838\n"
     ]
    },
    {
     "name": "stderr",
     "output_type": "stream",
     "text": [
      "TAP: 100%|██████████| 40/40 [00:08<00:00,  4.87it/s, loss=-4.39e+3]\n"
     ]
    },
    {
     "name": "stdout",
     "output_type": "stream",
     "text": [
      "imgid: 128, cos_sim_b: 0.7206385135650635, cos_sim_h: 0.8281005620956421\n"
     ]
    },
    {
     "name": "stderr",
     "output_type": "stream",
     "text": [
      "TAP: 100%|██████████| 40/40 [00:08<00:00,  4.81it/s, loss=-2.32e+3]\n"
     ]
    },
    {
     "name": "stdout",
     "output_type": "stream",
     "text": [
      "imgid: 129, cos_sim_b: 0.9718426465988159, cos_sim_h: 0.9777976870536804\n"
     ]
    },
    {
     "name": "stderr",
     "output_type": "stream",
     "text": [
      "TAP: 100%|██████████| 40/40 [00:08<00:00,  4.81it/s, loss=-1.45e+3]\n"
     ]
    },
    {
     "name": "stdout",
     "output_type": "stream",
     "text": [
      "imgid: 130, cos_sim_b: 0.9969028830528259, cos_sim_h: 0.9943951368331909\n"
     ]
    },
    {
     "name": "stderr",
     "output_type": "stream",
     "text": [
      "TAP: 100%|██████████| 40/40 [00:08<00:00,  4.80it/s, loss=-3.34e+3]\n"
     ]
    },
    {
     "name": "stdout",
     "output_type": "stream",
     "text": [
      "imgid: 131, cos_sim_b: 0.8471386432647705, cos_sim_h: 0.9112417101860046\n"
     ]
    },
    {
     "name": "stderr",
     "output_type": "stream",
     "text": [
      "TAP: 100%|██████████| 40/40 [00:08<00:00,  4.79it/s, loss=-5.71e+3]\n"
     ]
    },
    {
     "name": "stdout",
     "output_type": "stream",
     "text": [
      "imgid: 132, cos_sim_b: 0.7256594896316528, cos_sim_h: 0.9684051275253296\n"
     ]
    },
    {
     "name": "stderr",
     "output_type": "stream",
     "text": [
      "TAP: 100%|██████████| 40/40 [00:08<00:00,  4.86it/s, loss=-4.49e+3]\n"
     ]
    },
    {
     "name": "stdout",
     "output_type": "stream",
     "text": [
      "imgid: 133, cos_sim_b: 0.8226447105407715, cos_sim_h: 0.9261091351509094\n"
     ]
    },
    {
     "name": "stderr",
     "output_type": "stream",
     "text": [
      "TAP: 100%|██████████| 40/40 [00:08<00:00,  4.80it/s, loss=-2.95e+3]\n"
     ]
    },
    {
     "name": "stdout",
     "output_type": "stream",
     "text": [
      "imgid: 134, cos_sim_b: 0.9135221242904663, cos_sim_h: 0.9410915970802307\n"
     ]
    },
    {
     "name": "stderr",
     "output_type": "stream",
     "text": [
      "TAP: 100%|██████████| 40/40 [00:08<00:00,  4.81it/s, loss=-5.15e+3]\n"
     ]
    },
    {
     "name": "stdout",
     "output_type": "stream",
     "text": [
      "imgid: 135, cos_sim_b: 0.7415462732315063, cos_sim_h: 0.9386986494064331\n"
     ]
    },
    {
     "name": "stderr",
     "output_type": "stream",
     "text": [
      "TAP: 100%|██████████| 40/40 [00:08<00:00,  4.88it/s, loss=-3.42e+3]\n"
     ]
    },
    {
     "name": "stdout",
     "output_type": "stream",
     "text": [
      "imgid: 136, cos_sim_b: 0.86387699842453, cos_sim_h: 0.9421872496604919\n"
     ]
    },
    {
     "name": "stderr",
     "output_type": "stream",
     "text": [
      "TAP: 100%|██████████| 40/40 [00:08<00:00,  4.81it/s, loss=-2.48e+3]\n"
     ]
    },
    {
     "name": "stdout",
     "output_type": "stream",
     "text": [
      "imgid: 137, cos_sim_b: 0.9656820893287659, cos_sim_h: 0.9720860719680786\n"
     ]
    },
    {
     "name": "stderr",
     "output_type": "stream",
     "text": [
      "TAP: 100%|██████████| 40/40 [00:08<00:00,  4.78it/s, loss=-4.47e+3]\n"
     ]
    },
    {
     "name": "stdout",
     "output_type": "stream",
     "text": [
      "imgid: 138, cos_sim_b: 0.6771101951599121, cos_sim_h: 0.8796625733375549\n"
     ]
    },
    {
     "name": "stderr",
     "output_type": "stream",
     "text": [
      "TAP: 100%|██████████| 40/40 [00:08<00:00,  4.84it/s, loss=-4.75e+3]\n"
     ]
    },
    {
     "name": "stdout",
     "output_type": "stream",
     "text": [
      "imgid: 139, cos_sim_b: 0.7061829566955566, cos_sim_h: 0.9124464392662048\n"
     ]
    },
    {
     "name": "stderr",
     "output_type": "stream",
     "text": [
      "TAP: 100%|██████████| 40/40 [00:08<00:00,  4.78it/s, loss=-2.89e+3]\n"
     ]
    },
    {
     "name": "stdout",
     "output_type": "stream",
     "text": [
      "imgid: 140, cos_sim_b: 0.9571775794029236, cos_sim_h: 0.9754624366760254\n"
     ]
    },
    {
     "name": "stderr",
     "output_type": "stream",
     "text": [
      "TAP: 100%|██████████| 40/40 [00:08<00:00,  4.82it/s, loss=-4.98e+3]\n"
     ]
    },
    {
     "name": "stdout",
     "output_type": "stream",
     "text": [
      "imgid: 141, cos_sim_b: 0.7188359498977661, cos_sim_h: 0.9101651906967163\n"
     ]
    },
    {
     "name": "stderr",
     "output_type": "stream",
     "text": [
      "TAP: 100%|██████████| 40/40 [00:08<00:00,  4.77it/s, loss=-4.64e+3]\n"
     ]
    },
    {
     "name": "stdout",
     "output_type": "stream",
     "text": [
      "imgid: 142, cos_sim_b: 0.8355258107185364, cos_sim_h: 0.8844754695892334\n"
     ]
    },
    {
     "name": "stderr",
     "output_type": "stream",
     "text": [
      "TAP: 100%|██████████| 40/40 [00:08<00:00,  4.80it/s, loss=-5.23e+3]\n"
     ]
    },
    {
     "name": "stdout",
     "output_type": "stream",
     "text": [
      "imgid: 143, cos_sim_b: 0.8533180356025696, cos_sim_h: 0.9656662344932556\n"
     ]
    },
    {
     "name": "stderr",
     "output_type": "stream",
     "text": [
      "TAP: 100%|██████████| 40/40 [00:08<00:00,  4.77it/s, loss=-4.72e+3]\n"
     ]
    },
    {
     "name": "stdout",
     "output_type": "stream",
     "text": [
      "imgid: 144, cos_sim_b: 0.6659818887710571, cos_sim_h: 0.88902747631073\n"
     ]
    },
    {
     "name": "stderr",
     "output_type": "stream",
     "text": [
      "TAP: 100%|██████████| 40/40 [00:08<00:00,  4.88it/s, loss=-3.63e+3]\n"
     ]
    },
    {
     "name": "stdout",
     "output_type": "stream",
     "text": [
      "imgid: 145, cos_sim_b: 0.6934704780578613, cos_sim_h: 0.86612468957901\n"
     ]
    },
    {
     "name": "stderr",
     "output_type": "stream",
     "text": [
      "TAP: 100%|██████████| 40/40 [00:08<00:00,  4.77it/s, loss=-5.25e+3]\n"
     ]
    },
    {
     "name": "stdout",
     "output_type": "stream",
     "text": [
      "imgid: 146, cos_sim_b: 0.741703987121582, cos_sim_h: 0.9407531023025513\n"
     ]
    },
    {
     "name": "stderr",
     "output_type": "stream",
     "text": [
      "TAP: 100%|██████████| 40/40 [00:08<00:00,  4.88it/s, loss=-3.61e+3]\n"
     ]
    },
    {
     "name": "stdout",
     "output_type": "stream",
     "text": [
      "imgid: 147, cos_sim_b: 0.8688679933547974, cos_sim_h: 0.9239901304244995\n"
     ]
    },
    {
     "name": "stderr",
     "output_type": "stream",
     "text": [
      "TAP: 100%|██████████| 40/40 [00:08<00:00,  4.87it/s, loss=-4.48e+3]\n"
     ]
    },
    {
     "name": "stdout",
     "output_type": "stream",
     "text": [
      "imgid: 148, cos_sim_b: 0.8028005957603455, cos_sim_h: 0.8945158123970032\n"
     ]
    },
    {
     "name": "stderr",
     "output_type": "stream",
     "text": [
      "TAP: 100%|██████████| 40/40 [00:08<00:00,  4.88it/s, loss=-3.6e+3]\n"
     ]
    },
    {
     "name": "stdout",
     "output_type": "stream",
     "text": [
      "imgid: 149, cos_sim_b: 0.7463293075561523, cos_sim_h: 0.7917882204055786\n"
     ]
    },
    {
     "name": "stderr",
     "output_type": "stream",
     "text": [
      "TAP: 100%|██████████| 40/40 [00:08<00:00,  4.76it/s, loss=-5.15e+3]\n"
     ]
    },
    {
     "name": "stdout",
     "output_type": "stream",
     "text": [
      "imgid: 150, cos_sim_b: 0.7412169575691223, cos_sim_h: 0.9409449100494385\n"
     ]
    },
    {
     "name": "stderr",
     "output_type": "stream",
     "text": [
      "TAP: 100%|██████████| 40/40 [00:08<00:00,  4.79it/s, loss=-4.51e+3]\n"
     ]
    },
    {
     "name": "stdout",
     "output_type": "stream",
     "text": [
      "imgid: 151, cos_sim_b: 0.7590075731277466, cos_sim_h: 0.854422926902771\n"
     ]
    },
    {
     "name": "stderr",
     "output_type": "stream",
     "text": [
      "TAP: 100%|██████████| 40/40 [00:08<00:00,  4.85it/s, loss=-4.8e+3] \n"
     ]
    },
    {
     "name": "stdout",
     "output_type": "stream",
     "text": [
      "imgid: 152, cos_sim_b: 0.7882006168365479, cos_sim_h: 0.8631336092948914\n"
     ]
    },
    {
     "name": "stderr",
     "output_type": "stream",
     "text": [
      "TAP: 100%|██████████| 40/40 [00:08<00:00,  4.90it/s, loss=-2.2e+3]\n"
     ]
    },
    {
     "name": "stdout",
     "output_type": "stream",
     "text": [
      "imgid: 153, cos_sim_b: 0.9744396209716797, cos_sim_h: 0.9824604988098145\n"
     ]
    },
    {
     "name": "stderr",
     "output_type": "stream",
     "text": [
      "TAP: 100%|██████████| 40/40 [00:08<00:00,  4.79it/s, loss=-3.24e+3]\n"
     ]
    },
    {
     "name": "stdout",
     "output_type": "stream",
     "text": [
      "imgid: 154, cos_sim_b: 0.9041225910186768, cos_sim_h: 0.9592030048370361\n"
     ]
    },
    {
     "name": "stderr",
     "output_type": "stream",
     "text": [
      "TAP: 100%|██████████| 40/40 [00:08<00:00,  4.88it/s, loss=-4.1e+3]\n"
     ]
    },
    {
     "name": "stdout",
     "output_type": "stream",
     "text": [
      "imgid: 155, cos_sim_b: 0.8135765194892883, cos_sim_h: 0.9207746982574463\n"
     ]
    },
    {
     "name": "stderr",
     "output_type": "stream",
     "text": [
      "TAP: 100%|██████████| 40/40 [00:08<00:00,  4.88it/s, loss=-4.56e+3]\n"
     ]
    },
    {
     "name": "stdout",
     "output_type": "stream",
     "text": [
      "imgid: 156, cos_sim_b: 0.6577805280685425, cos_sim_h: 0.8543022274971008\n"
     ]
    },
    {
     "name": "stderr",
     "output_type": "stream",
     "text": [
      "TAP: 100%|██████████| 40/40 [00:08<00:00,  4.76it/s, loss=-5.21e+3]\n"
     ]
    },
    {
     "name": "stdout",
     "output_type": "stream",
     "text": [
      "imgid: 157, cos_sim_b: 0.6666749119758606, cos_sim_h: 0.864898681640625\n"
     ]
    },
    {
     "name": "stderr",
     "output_type": "stream",
     "text": [
      "TAP: 100%|██████████| 40/40 [00:08<00:00,  4.79it/s, loss=-4.52e+3]\n"
     ]
    },
    {
     "name": "stdout",
     "output_type": "stream",
     "text": [
      "imgid: 158, cos_sim_b: 0.6961698532104492, cos_sim_h: 0.8559191226959229\n"
     ]
    },
    {
     "name": "stderr",
     "output_type": "stream",
     "text": [
      "TAP: 100%|██████████| 40/40 [00:08<00:00,  4.80it/s, loss=-3.99e+3]\n"
     ]
    },
    {
     "name": "stdout",
     "output_type": "stream",
     "text": [
      "imgid: 159, cos_sim_b: 0.7261748313903809, cos_sim_h: 0.863844633102417\n"
     ]
    },
    {
     "name": "stderr",
     "output_type": "stream",
     "text": [
      "TAP: 100%|██████████| 40/40 [00:08<00:00,  4.81it/s, loss=-4.25e+3]\n"
     ]
    },
    {
     "name": "stdout",
     "output_type": "stream",
     "text": [
      "imgid: 160, cos_sim_b: 0.8430688977241516, cos_sim_h: 0.923918604850769\n"
     ]
    },
    {
     "name": "stderr",
     "output_type": "stream",
     "text": [
      "TAP: 100%|██████████| 40/40 [00:08<00:00,  4.81it/s, loss=-4.63e+3]\n"
     ]
    },
    {
     "name": "stdout",
     "output_type": "stream",
     "text": [
      "imgid: 161, cos_sim_b: 0.795926570892334, cos_sim_h: 0.9139026403427124\n"
     ]
    },
    {
     "name": "stderr",
     "output_type": "stream",
     "text": [
      "TAP: 100%|██████████| 40/40 [00:08<00:00,  4.80it/s, loss=-3.4e+3]\n"
     ]
    },
    {
     "name": "stdout",
     "output_type": "stream",
     "text": [
      "imgid: 162, cos_sim_b: 0.8426535129547119, cos_sim_h: 0.8977410793304443\n"
     ]
    },
    {
     "name": "stderr",
     "output_type": "stream",
     "text": [
      "TAP: 100%|██████████| 40/40 [00:08<00:00,  4.80it/s, loss=-4.51e+3]\n"
     ]
    },
    {
     "name": "stdout",
     "output_type": "stream",
     "text": [
      "imgid: 163, cos_sim_b: 0.755059540271759, cos_sim_h: 0.9110289812088013\n"
     ]
    },
    {
     "name": "stderr",
     "output_type": "stream",
     "text": [
      "TAP: 100%|██████████| 40/40 [00:08<00:00,  4.81it/s, loss=-2.31e+3]\n"
     ]
    },
    {
     "name": "stdout",
     "output_type": "stream",
     "text": [
      "imgid: 164, cos_sim_b: 0.9607937335968018, cos_sim_h: 0.9742227792739868\n"
     ]
    },
    {
     "name": "stderr",
     "output_type": "stream",
     "text": [
      "TAP: 100%|██████████| 40/40 [00:08<00:00,  4.82it/s, loss=-4.95e+3]\n"
     ]
    },
    {
     "name": "stdout",
     "output_type": "stream",
     "text": [
      "imgid: 165, cos_sim_b: 0.836056113243103, cos_sim_h: 0.9517143964767456\n"
     ]
    },
    {
     "name": "stderr",
     "output_type": "stream",
     "text": [
      "TAP: 100%|██████████| 40/40 [00:08<00:00,  4.89it/s, loss=-4.12e+3]\n"
     ]
    },
    {
     "name": "stdout",
     "output_type": "stream",
     "text": [
      "imgid: 166, cos_sim_b: 0.8213731050491333, cos_sim_h: 0.865976095199585\n"
     ]
    },
    {
     "name": "stderr",
     "output_type": "stream",
     "text": [
      "TAP: 100%|██████████| 40/40 [00:08<00:00,  4.79it/s, loss=-3.73e+3]\n"
     ]
    },
    {
     "name": "stdout",
     "output_type": "stream",
     "text": [
      "imgid: 167, cos_sim_b: 0.8840246200561523, cos_sim_h: 0.9438734650611877\n"
     ]
    },
    {
     "name": "stderr",
     "output_type": "stream",
     "text": [
      "TAP: 100%|██████████| 40/40 [00:08<00:00,  4.79it/s, loss=-3.39e+3]\n"
     ]
    },
    {
     "name": "stdout",
     "output_type": "stream",
     "text": [
      "imgid: 168, cos_sim_b: 0.8647831678390503, cos_sim_h: 0.9124974012374878\n"
     ]
    },
    {
     "name": "stderr",
     "output_type": "stream",
     "text": [
      "TAP: 100%|██████████| 40/40 [00:08<00:00,  4.81it/s, loss=-2.18e+3]\n"
     ]
    },
    {
     "name": "stdout",
     "output_type": "stream",
     "text": [
      "imgid: 169, cos_sim_b: 0.9876342415809631, cos_sim_h: 0.9906261563301086\n"
     ]
    },
    {
     "name": "stderr",
     "output_type": "stream",
     "text": [
      "TAP: 100%|██████████| 40/40 [00:08<00:00,  4.91it/s, loss=-1.47e+3]\n"
     ]
    },
    {
     "name": "stdout",
     "output_type": "stream",
     "text": [
      "imgid: 170, cos_sim_b: 0.9964689612388611, cos_sim_h: 0.9932217001914978\n"
     ]
    },
    {
     "name": "stderr",
     "output_type": "stream",
     "text": [
      "TAP: 100%|██████████| 40/40 [00:08<00:00,  4.78it/s, loss=-4.67e+3]\n"
     ]
    },
    {
     "name": "stdout",
     "output_type": "stream",
     "text": [
      "imgid: 171, cos_sim_b: 0.8213745355606079, cos_sim_h: 0.9300347566604614\n"
     ]
    },
    {
     "name": "stderr",
     "output_type": "stream",
     "text": [
      "TAP: 100%|██████████| 40/40 [00:08<00:00,  4.78it/s, loss=-4.31e+3]\n"
     ]
    },
    {
     "name": "stdout",
     "output_type": "stream",
     "text": [
      "imgid: 172, cos_sim_b: 0.806250810623169, cos_sim_h: 0.9258912801742554\n"
     ]
    },
    {
     "name": "stderr",
     "output_type": "stream",
     "text": [
      "TAP: 100%|██████████| 40/40 [00:08<00:00,  4.79it/s, loss=-3.12e+3]\n"
     ]
    },
    {
     "name": "stdout",
     "output_type": "stream",
     "text": [
      "imgid: 173, cos_sim_b: 0.8659462928771973, cos_sim_h: 0.9187617301940918\n"
     ]
    },
    {
     "name": "stderr",
     "output_type": "stream",
     "text": [
      "TAP: 100%|██████████| 40/40 [00:08<00:00,  4.88it/s, loss=-3.86e+3]\n"
     ]
    },
    {
     "name": "stdout",
     "output_type": "stream",
     "text": [
      "imgid: 174, cos_sim_b: 0.7194222807884216, cos_sim_h: 0.8244150876998901\n"
     ]
    },
    {
     "name": "stderr",
     "output_type": "stream",
     "text": [
      "TAP: 100%|██████████| 40/40 [00:08<00:00,  4.79it/s, loss=-3.41e+3]\n"
     ]
    },
    {
     "name": "stdout",
     "output_type": "stream",
     "text": [
      "imgid: 175, cos_sim_b: 0.892186164855957, cos_sim_h: 0.9468310475349426\n"
     ]
    },
    {
     "name": "stderr",
     "output_type": "stream",
     "text": [
      "TAP: 100%|██████████| 40/40 [00:08<00:00,  4.88it/s, loss=-3.99e+3]\n"
     ]
    },
    {
     "name": "stdout",
     "output_type": "stream",
     "text": [
      "imgid: 176, cos_sim_b: 0.7704591751098633, cos_sim_h: 0.875474214553833\n"
     ]
    },
    {
     "name": "stderr",
     "output_type": "stream",
     "text": [
      "TAP: 100%|██████████| 40/40 [00:08<00:00,  4.79it/s, loss=-2.34e+3]\n"
     ]
    },
    {
     "name": "stdout",
     "output_type": "stream",
     "text": [
      "imgid: 177, cos_sim_b: 0.9745194315910339, cos_sim_h: 0.9833000302314758\n"
     ]
    },
    {
     "name": "stderr",
     "output_type": "stream",
     "text": [
      "TAP: 100%|██████████| 40/40 [00:08<00:00,  4.84it/s, loss=-4.56e+3]\n"
     ]
    },
    {
     "name": "stdout",
     "output_type": "stream",
     "text": [
      "imgid: 178, cos_sim_b: 0.7781293988227844, cos_sim_h: 0.9057100415229797\n"
     ]
    },
    {
     "name": "stderr",
     "output_type": "stream",
     "text": [
      "TAP: 100%|██████████| 40/40 [00:08<00:00,  4.78it/s, loss=-4.34e+3]\n"
     ]
    },
    {
     "name": "stdout",
     "output_type": "stream",
     "text": [
      "imgid: 179, cos_sim_b: 0.6813881993293762, cos_sim_h: 0.8732802867889404\n"
     ]
    },
    {
     "name": "stderr",
     "output_type": "stream",
     "text": [
      "TAP: 100%|██████████| 40/40 [00:08<00:00,  4.77it/s, loss=-4.35e+3]\n"
     ]
    },
    {
     "name": "stdout",
     "output_type": "stream",
     "text": [
      "imgid: 180, cos_sim_b: 0.8186479210853577, cos_sim_h: 0.918410062789917\n"
     ]
    },
    {
     "name": "stderr",
     "output_type": "stream",
     "text": [
      "TAP: 100%|██████████| 40/40 [00:08<00:00,  4.86it/s, loss=-4.37e+3]\n"
     ]
    },
    {
     "name": "stdout",
     "output_type": "stream",
     "text": [
      "imgid: 181, cos_sim_b: 0.5647071003913879, cos_sim_h: 0.7917572259902954\n"
     ]
    },
    {
     "name": "stderr",
     "output_type": "stream",
     "text": [
      "TAP: 100%|██████████| 40/40 [00:08<00:00,  4.81it/s, loss=-2.32e+3]\n"
     ]
    },
    {
     "name": "stdout",
     "output_type": "stream",
     "text": [
      "imgid: 182, cos_sim_b: 0.9783493280410767, cos_sim_h: 0.9816880226135254\n"
     ]
    },
    {
     "name": "stderr",
     "output_type": "stream",
     "text": [
      "TAP: 100%|██████████| 40/40 [00:08<00:00,  4.77it/s, loss=-4.78e+3]\n"
     ]
    },
    {
     "name": "stdout",
     "output_type": "stream",
     "text": [
      "imgid: 183, cos_sim_b: 0.7445857524871826, cos_sim_h: 0.8719481229782104\n"
     ]
    },
    {
     "name": "stderr",
     "output_type": "stream",
     "text": [
      "TAP: 100%|██████████| 40/40 [00:08<00:00,  4.79it/s, loss=-2.81e+3]\n"
     ]
    },
    {
     "name": "stdout",
     "output_type": "stream",
     "text": [
      "imgid: 184, cos_sim_b: 0.9530037045478821, cos_sim_h: 0.9700654745101929\n"
     ]
    },
    {
     "name": "stderr",
     "output_type": "stream",
     "text": [
      "TAP: 100%|██████████| 40/40 [00:08<00:00,  4.83it/s, loss=-4.99e+3]\n"
     ]
    },
    {
     "name": "stdout",
     "output_type": "stream",
     "text": [
      "imgid: 185, cos_sim_b: 0.7046090364456177, cos_sim_h: 0.9206901788711548\n"
     ]
    },
    {
     "name": "stderr",
     "output_type": "stream",
     "text": [
      "TAP: 100%|██████████| 40/40 [00:08<00:00,  4.89it/s, loss=-2.97e+3]\n"
     ]
    },
    {
     "name": "stdout",
     "output_type": "stream",
     "text": [
      "imgid: 186, cos_sim_b: 0.8887773752212524, cos_sim_h: 0.9229168891906738\n"
     ]
    },
    {
     "name": "stderr",
     "output_type": "stream",
     "text": [
      "TAP: 100%|██████████| 40/40 [00:08<00:00,  4.78it/s, loss=-4.41e+3]\n"
     ]
    },
    {
     "name": "stdout",
     "output_type": "stream",
     "text": [
      "imgid: 187, cos_sim_b: 0.6367306113243103, cos_sim_h: 0.7313177585601807\n"
     ]
    },
    {
     "name": "stderr",
     "output_type": "stream",
     "text": [
      "TAP: 100%|██████████| 40/40 [00:08<00:00,  4.84it/s, loss=-4.53e+3]\n"
     ]
    },
    {
     "name": "stdout",
     "output_type": "stream",
     "text": [
      "imgid: 188, cos_sim_b: 0.6036599278450012, cos_sim_h: 0.7854153513908386\n"
     ]
    },
    {
     "name": "stderr",
     "output_type": "stream",
     "text": [
      "TAP: 100%|██████████| 40/40 [00:08<00:00,  4.79it/s, loss=-4.41e+3]\n"
     ]
    },
    {
     "name": "stdout",
     "output_type": "stream",
     "text": [
      "imgid: 189, cos_sim_b: 0.8002006411552429, cos_sim_h: 0.9125799536705017\n"
     ]
    },
    {
     "name": "stderr",
     "output_type": "stream",
     "text": [
      "TAP: 100%|██████████| 40/40 [00:08<00:00,  4.89it/s, loss=-3.29e+3]\n"
     ]
    },
    {
     "name": "stdout",
     "output_type": "stream",
     "text": [
      "imgid: 190, cos_sim_b: 0.8655683994293213, cos_sim_h: 0.9029932022094727\n"
     ]
    },
    {
     "name": "stderr",
     "output_type": "stream",
     "text": [
      "TAP: 100%|██████████| 40/40 [00:08<00:00,  4.79it/s, loss=-4.33e+3]\n"
     ]
    },
    {
     "name": "stdout",
     "output_type": "stream",
     "text": [
      "imgid: 191, cos_sim_b: 0.7997568845748901, cos_sim_h: 0.9099581837654114\n"
     ]
    },
    {
     "name": "stderr",
     "output_type": "stream",
     "text": [
      "TAP: 100%|██████████| 40/40 [00:08<00:00,  4.79it/s, loss=-4.59e+3]\n"
     ]
    },
    {
     "name": "stdout",
     "output_type": "stream",
     "text": [
      "imgid: 192, cos_sim_b: 0.7326921224594116, cos_sim_h: 0.8255925178527832\n"
     ]
    },
    {
     "name": "stderr",
     "output_type": "stream",
     "text": [
      "TAP: 100%|██████████| 40/40 [00:08<00:00,  4.77it/s, loss=-4.92e+3]\n"
     ]
    },
    {
     "name": "stdout",
     "output_type": "stream",
     "text": [
      "imgid: 193, cos_sim_b: 0.73117995262146, cos_sim_h: 0.9150972366333008\n"
     ]
    },
    {
     "name": "stderr",
     "output_type": "stream",
     "text": [
      "TAP: 100%|██████████| 40/40 [00:08<00:00,  4.75it/s, loss=-4.79e+3]\n"
     ]
    },
    {
     "name": "stdout",
     "output_type": "stream",
     "text": [
      "imgid: 194, cos_sim_b: 0.8719233274459839, cos_sim_h: 0.9120974540710449\n"
     ]
    },
    {
     "name": "stderr",
     "output_type": "stream",
     "text": [
      "TAP: 100%|██████████| 40/40 [00:08<00:00,  4.88it/s, loss=-3.52e+3]\n"
     ]
    },
    {
     "name": "stdout",
     "output_type": "stream",
     "text": [
      "imgid: 195, cos_sim_b: 0.8317703008651733, cos_sim_h: 0.9035339951515198\n"
     ]
    },
    {
     "name": "stderr",
     "output_type": "stream",
     "text": [
      "TAP: 100%|██████████| 40/40 [00:08<00:00,  4.75it/s, loss=-5.27e+3]\n"
     ]
    },
    {
     "name": "stdout",
     "output_type": "stream",
     "text": [
      "imgid: 196, cos_sim_b: 0.7572486400604248, cos_sim_h: 0.9454666376113892\n"
     ]
    },
    {
     "name": "stderr",
     "output_type": "stream",
     "text": [
      "TAP: 100%|██████████| 40/40 [00:08<00:00,  4.86it/s, loss=-4.03e+3]\n"
     ]
    },
    {
     "name": "stdout",
     "output_type": "stream",
     "text": [
      "imgid: 197, cos_sim_b: 0.7634501457214355, cos_sim_h: 0.8987852334976196\n"
     ]
    },
    {
     "name": "stderr",
     "output_type": "stream",
     "text": [
      "TAP: 100%|██████████| 40/40 [00:08<00:00,  4.78it/s, loss=-5.03e+3]\n"
     ]
    },
    {
     "name": "stdout",
     "output_type": "stream",
     "text": [
      "imgid: 198, cos_sim_b: 0.5687160491943359, cos_sim_h: 0.8104437589645386\n"
     ]
    },
    {
     "name": "stderr",
     "output_type": "stream",
     "text": [
      "TAP: 100%|██████████| 40/40 [00:08<00:00,  4.89it/s, loss=-2.24e+3]\n"
     ]
    },
    {
     "name": "stdout",
     "output_type": "stream",
     "text": [
      "imgid: 199, cos_sim_b: 0.9726675748825073, cos_sim_h: 0.975267767906189\n"
     ]
    },
    {
     "name": "stderr",
     "output_type": "stream",
     "text": [
      "TAP: 100%|██████████| 40/40 [00:08<00:00,  4.89it/s, loss=-3.04e+3]\n"
     ]
    },
    {
     "name": "stdout",
     "output_type": "stream",
     "text": [
      "imgid: 200, cos_sim_b: 0.8639728426933289, cos_sim_h: 0.9274327754974365\n"
     ]
    }
   ],
   "source": [
    "cossim = torch.nn.CosineSimilarity(dim=-1, eps=1e-6)\n",
    "cos_sim_b_list_TAP = []\n",
    "cos_sim_h_list_TAP = []\n",
    "for imgid in range(1, 201):\n",
    "    imgpath = f'{SAM_DATASET_PATH}sa_{imgid}.jpg'\n",
    "    samb.set_clean_cv2_image(imgpath)\n",
    "    clean_features = samb.model.image_encoder.hook_feature_list[-1]\n",
    "    N, C, H, W = clean_features.shape\n",
    "    adv_tap_input = samb.TAP(imgpath)\n",
    "    adv_tap_cv2 = samb.get_cv2_from_torch(adv_tap_input)\n",
    "\n",
    "    samb.set_image(adv_tap_cv2)\n",
    "    adv_features = samb.model.image_encoder.hook_feature_list[-1]\n",
    "    cos_sim_b = cossim(clean_features.reshape(N, C, -1), adv_features.reshape(N, C, -1)).mean()\n",
    "    cos_sim_b_list_TAP.append(cos_sim_b.item())\n",
    "\n",
    "    samh.set_clean_cv2_image(imgpath)\n",
    "    clean_features = samh.model.image_encoder.hook_feature_list[-1]\n",
    "    N, C, H, W = clean_features.shape\n",
    "    samh.set_image(adv_tap_cv2)\n",
    "    adv_features = samh.model.image_encoder.hook_feature_list[-1]\n",
    "    cos_sim_h = cossim(clean_features.reshape(N, C, -1), adv_features.reshape(N, C, -1)).mean()\n",
    "    cos_sim_h_list_TAP.append(cos_sim_h.item())\n",
    "    print(f'imgid: {imgid}, cos_sim_b: {cos_sim_b.item()}, cos_sim_h: {cos_sim_h.item()}')\n",
    "    if imgid % 20 == 0:\n",
    "        # save the results\n",
    "        np.save(f'{PROJECT_PATH}/exp/feature_distance200/cos_sim_b_list_TAP.npy', cos_sim_b_list_TAP)\n",
    "        np.save(f'{PROJECT_PATH}/exp/feature_distance200/cos_sim_h_list_TAP.npy', cos_sim_h_list_TAP)"
   ]
  },
  {
   "cell_type": "code",
   "execution_count": 6,
   "metadata": {},
   "outputs": [
    {
     "data": {
      "image/png": "[encoded data removed]",
      "text/plain": [
       "<Figure size 640x480 with 1 Axes>"
      ]
     },
     "metadata": {},
     "output_type": "display_data"
    }
   ],
   "source": [
    "import matplotlib.pyplot as plt\n",
    "from scipy.stats import norm\n",
    "\n",
    "#list1 = cos_sim_b_list_TAP\n",
    "#list2 = cos_sim_h_list_TAP\n",
    "list1 = np.load(f'{PROJECT_PATH}/exp/feature_distance200/cos_sim_b_list_TAP.npy')\n",
    "list2 = np.load(f'{PROJECT_PATH}/exp/feature_distance200/cos_sim_h_list_TAP.npy')\n",
    "\n",
    "data_min = min(min(list1), min(list2))\n",
    "data_max = max(max(list1), max(list2))\n",
    "\n",
    "bin_width = (data_max - data_min) / 100\n",
    "\n",
    "# 计算每个列表的bins边界，确保bins宽度一致\n",
    "bins_list1 = np.arange(start=data_min, stop=data_max, step=bin_width)\n",
    "bins_list2 = np.arange(start=data_min, stop=data_max, step=bin_width)\n",
    "\n",
    "\n",
    "bins1_midpoints = (bins_list1[:-1] + bins_list1[1:]) / 2\n",
    "bins2_midpoints = (bins_list2[:-1] + bins_list2[1:]) / 2\n",
    "pdf1 = norm.pdf(bins1_midpoints, np.mean(list1), np.std(list1))\n",
    "pdf2 = norm.pdf(bins2_midpoints, np.mean(list2), np.std(list2))\n",
    "\n",
    "# 绘制直方图，alpha值设置透明度为50%\n",
    "plt.title('Feature Similarity Distribution of Untargeted Feature Disruption (TAP)')\n",
    "plt.hist(list1, bins=bins_list1, alpha=0.5, color='blue', label='source model')\n",
    "plt.hist(list2, bins=bins_list2, alpha=0.5, color='red', label='black-box model')\n",
    "plt.xlabel('feature cosine similarity between clean and adversarial image')\n",
    "plt.ylabel('number of samples')\n",
    "\n",
    "plt.plot(bins1_midpoints, pdf1, 'b--', linewidth=2)\n",
    "plt.plot(bins2_midpoints, pdf2, 'r--', linewidth=2)\n",
    "plt.legend()\n",
    "plt.tight_layout()\n",
    "plt.savefig(f'{PROJECT_PATH}/exp/feature_distance200/untarget_sim_hist.png')\n",
    "plt.show()"
   ]
  },
  {
   "cell_type": "code",
   "execution_count": 5,
   "metadata": {},
   "outputs": [
    {
     "name": "stderr",
     "output_type": "stream",
     "text": [
      "AA: 100%|██████████| 40/40 [00:07<00:00,  5.13it/s, loss=4.57e+3]\n"
     ]
    },
    {
     "name": "stdout",
     "output_type": "stream",
     "text": [
      "imgid: 1, cos_sim_b: 0.9286044239997864, cos_sim_h: 0.9465927481651306\n"
     ]
    },
    {
     "name": "stderr",
     "output_type": "stream",
     "text": [
      "AA: 100%|██████████| 40/40 [00:07<00:00,  5.08it/s, loss=3.59e+3]\n"
     ]
    },
    {
     "name": "stdout",
     "output_type": "stream",
     "text": [
      "imgid: 2, cos_sim_b: 0.7880902290344238, cos_sim_h: 0.8296997547149658\n"
     ]
    },
    {
     "name": "stderr",
     "output_type": "stream",
     "text": [
      "AA: 100%|██████████| 40/40 [00:07<00:00,  5.03it/s, loss=3.76e+3]\n"
     ]
    },
    {
     "name": "stdout",
     "output_type": "stream",
     "text": [
      "imgid: 3, cos_sim_b: 0.846520185470581, cos_sim_h: 0.8757271766662598\n"
     ]
    },
    {
     "name": "stderr",
     "output_type": "stream",
     "text": [
      "AA: 100%|██████████| 40/40 [00:08<00:00,  4.99it/s, loss=3.82e+3]\n"
     ]
    },
    {
     "name": "stdout",
     "output_type": "stream",
     "text": [
      "imgid: 4, cos_sim_b: 0.7359827756881714, cos_sim_h: 0.7857365608215332\n"
     ]
    },
    {
     "name": "stderr",
     "output_type": "stream",
     "text": [
      "AA: 100%|██████████| 40/40 [00:08<00:00,  4.94it/s, loss=3.73e+3]\n"
     ]
    },
    {
     "name": "stdout",
     "output_type": "stream",
     "text": [
      "imgid: 5, cos_sim_b: 0.7998335361480713, cos_sim_h: 0.8481763005256653\n"
     ]
    },
    {
     "name": "stderr",
     "output_type": "stream",
     "text": [
      "AA: 100%|██████████| 40/40 [00:08<00:00,  4.91it/s, loss=3.74e+3]\n"
     ]
    },
    {
     "name": "stdout",
     "output_type": "stream",
     "text": [
      "imgid: 6, cos_sim_b: 0.763710081577301, cos_sim_h: 0.8351781368255615\n"
     ]
    },
    {
     "name": "stderr",
     "output_type": "stream",
     "text": [
      "AA: 100%|██████████| 40/40 [00:08<00:00,  4.89it/s, loss=4.1e+3] \n"
     ]
    },
    {
     "name": "stdout",
     "output_type": "stream",
     "text": [
      "imgid: 7, cos_sim_b: 0.883560061454773, cos_sim_h: 0.8845621943473816\n"
     ]
    },
    {
     "name": "stderr",
     "output_type": "stream",
     "text": [
      "AA: 100%|██████████| 40/40 [00:08<00:00,  4.87it/s, loss=3.95e+3]\n"
     ]
    },
    {
     "name": "stdout",
     "output_type": "stream",
     "text": [
      "imgid: 8, cos_sim_b: 0.8039082288742065, cos_sim_h: 0.9112159013748169\n"
     ]
    },
    {
     "name": "stderr",
     "output_type": "stream",
     "text": [
      "AA: 100%|██████████| 40/40 [00:08<00:00,  4.84it/s, loss=4.23e+3]\n"
     ]
    },
    {
     "name": "stdout",
     "output_type": "stream",
     "text": [
      "imgid: 9, cos_sim_b: 0.8508071899414062, cos_sim_h: 0.9085997939109802\n"
     ]
    },
    {
     "name": "stderr",
     "output_type": "stream",
     "text": [
      "AA: 100%|██████████| 40/40 [00:08<00:00,  4.84it/s, loss=3.52e+3]\n"
     ]
    },
    {
     "name": "stdout",
     "output_type": "stream",
     "text": [
      "imgid: 10, cos_sim_b: 0.7632170915603638, cos_sim_h: 0.8145171403884888\n"
     ]
    },
    {
     "name": "stderr",
     "output_type": "stream",
     "text": [
      "AA: 100%|██████████| 40/40 [00:08<00:00,  4.82it/s, loss=3.91e+3]\n"
     ]
    },
    {
     "name": "stdout",
     "output_type": "stream",
     "text": [
      "imgid: 11, cos_sim_b: 0.8594170808792114, cos_sim_h: 0.9166873693466187\n"
     ]
    },
    {
     "name": "stderr",
     "output_type": "stream",
     "text": [
      "AA: 100%|██████████| 40/40 [00:08<00:00,  4.80it/s, loss=4.23e+3]\n"
     ]
    },
    {
     "name": "stdout",
     "output_type": "stream",
     "text": [
      "imgid: 12, cos_sim_b: 0.8898392915725708, cos_sim_h: 0.906792938709259\n"
     ]
    },
    {
     "name": "stderr",
     "output_type": "stream",
     "text": [
      "AA: 100%|██████████| 40/40 [00:08<00:00,  4.80it/s, loss=3.66e+3]\n"
     ]
    },
    {
     "name": "stdout",
     "output_type": "stream",
     "text": [
      "imgid: 13, cos_sim_b: 0.7428314685821533, cos_sim_h: 0.7691348195075989\n"
     ]
    },
    {
     "name": "stderr",
     "output_type": "stream",
     "text": [
      "AA: 100%|██████████| 40/40 [00:08<00:00,  4.78it/s, loss=4.3e+3] \n"
     ]
    },
    {
     "name": "stdout",
     "output_type": "stream",
     "text": [
      "imgid: 14, cos_sim_b: 0.7557843923568726, cos_sim_h: 0.833305299282074\n"
     ]
    },
    {
     "name": "stderr",
     "output_type": "stream",
     "text": [
      "AA: 100%|██████████| 40/40 [00:08<00:00,  4.78it/s, loss=3.86e+3]\n"
     ]
    },
    {
     "name": "stdout",
     "output_type": "stream",
     "text": [
      "imgid: 15, cos_sim_b: 0.8030133247375488, cos_sim_h: 0.883469820022583\n"
     ]
    },
    {
     "name": "stderr",
     "output_type": "stream",
     "text": [
      "AA: 100%|██████████| 40/40 [00:08<00:00,  4.77it/s, loss=4.51e+3]\n"
     ]
    },
    {
     "name": "stdout",
     "output_type": "stream",
     "text": [
      "imgid: 16, cos_sim_b: 0.881016731262207, cos_sim_h: 0.9213804006576538\n"
     ]
    },
    {
     "name": "stderr",
     "output_type": "stream",
     "text": [
      "AA: 100%|██████████| 40/40 [00:08<00:00,  4.78it/s, loss=4.08e+3]\n"
     ]
    },
    {
     "name": "stdout",
     "output_type": "stream",
     "text": [
      "imgid: 17, cos_sim_b: 0.8117007613182068, cos_sim_h: 0.8614742159843445\n"
     ]
    },
    {
     "name": "stderr",
     "output_type": "stream",
     "text": [
      "AA: 100%|██████████| 40/40 [00:08<00:00,  4.78it/s, loss=3.23e+3]\n"
     ]
    },
    {
     "name": "stdout",
     "output_type": "stream",
     "text": [
      "imgid: 18, cos_sim_b: 0.8561781644821167, cos_sim_h: 0.8843023777008057\n"
     ]
    },
    {
     "name": "stderr",
     "output_type": "stream",
     "text": [
      "AA: 100%|██████████| 40/40 [00:08<00:00,  4.77it/s, loss=4.13e+3]\n"
     ]
    },
    {
     "name": "stdout",
     "output_type": "stream",
     "text": [
      "imgid: 19, cos_sim_b: 0.8352353572845459, cos_sim_h: 0.8901686072349548\n"
     ]
    },
    {
     "name": "stderr",
     "output_type": "stream",
     "text": [
      "AA: 100%|██████████| 40/40 [00:08<00:00,  4.77it/s, loss=4.41e+3]\n"
     ]
    },
    {
     "name": "stdout",
     "output_type": "stream",
     "text": [
      "imgid: 20, cos_sim_b: 0.8568748831748962, cos_sim_h: 0.911708652973175\n"
     ]
    },
    {
     "name": "stderr",
     "output_type": "stream",
     "text": [
      "AA: 100%|██████████| 40/40 [00:08<00:00,  4.78it/s, loss=3.98e+3]\n"
     ]
    },
    {
     "name": "stdout",
     "output_type": "stream",
     "text": [
      "imgid: 21, cos_sim_b: 0.8219952583312988, cos_sim_h: 0.8773894906044006\n"
     ]
    },
    {
     "name": "stderr",
     "output_type": "stream",
     "text": [
      "AA: 100%|██████████| 40/40 [00:08<00:00,  4.77it/s, loss=4.08e+3]\n"
     ]
    },
    {
     "name": "stdout",
     "output_type": "stream",
     "text": [
      "imgid: 22, cos_sim_b: 0.8695082664489746, cos_sim_h: 0.9017213582992554\n"
     ]
    },
    {
     "name": "stderr",
     "output_type": "stream",
     "text": [
      "AA: 100%|██████████| 40/40 [00:08<00:00,  4.77it/s, loss=3.54e+3]\n"
     ]
    },
    {
     "name": "stdout",
     "output_type": "stream",
     "text": [
      "imgid: 23, cos_sim_b: 0.8173924684524536, cos_sim_h: 0.8775373101234436\n"
     ]
    },
    {
     "name": "stderr",
     "output_type": "stream",
     "text": [
      "AA: 100%|██████████| 40/40 [00:08<00:00,  4.78it/s, loss=3.37e+3]\n"
     ]
    },
    {
     "name": "stdout",
     "output_type": "stream",
     "text": [
      "imgid: 24, cos_sim_b: 0.8869372606277466, cos_sim_h: 0.9031548500061035\n"
     ]
    },
    {
     "name": "stderr",
     "output_type": "stream",
     "text": [
      "AA: 100%|██████████| 40/40 [00:08<00:00,  4.77it/s, loss=4.08e+3]\n"
     ]
    },
    {
     "name": "stdout",
     "output_type": "stream",
     "text": [
      "imgid: 25, cos_sim_b: 0.9298251867294312, cos_sim_h: 0.9468487501144409\n"
     ]
    },
    {
     "name": "stderr",
     "output_type": "stream",
     "text": [
      "AA: 100%|██████████| 40/40 [00:08<00:00,  4.76it/s, loss=4.95e+3]\n"
     ]
    },
    {
     "name": "stdout",
     "output_type": "stream",
     "text": [
      "imgid: 26, cos_sim_b: 0.775627613067627, cos_sim_h: 0.8723276853561401\n"
     ]
    },
    {
     "name": "stderr",
     "output_type": "stream",
     "text": [
      "AA: 100%|██████████| 40/40 [00:08<00:00,  4.76it/s, loss=4.36e+3]\n"
     ]
    },
    {
     "name": "stdout",
     "output_type": "stream",
     "text": [
      "imgid: 27, cos_sim_b: 0.9002522230148315, cos_sim_h: 0.9388477802276611\n"
     ]
    },
    {
     "name": "stderr",
     "output_type": "stream",
     "text": [
      "AA: 100%|██████████| 40/40 [00:08<00:00,  4.76it/s, loss=3.92e+3]\n"
     ]
    },
    {
     "name": "stdout",
     "output_type": "stream",
     "text": [
      "imgid: 28, cos_sim_b: 0.7601727247238159, cos_sim_h: 0.8255645632743835\n"
     ]
    },
    {
     "name": "stderr",
     "output_type": "stream",
     "text": [
      "AA: 100%|██████████| 40/40 [00:08<00:00,  4.75it/s, loss=4.35e+3]\n"
     ]
    },
    {
     "name": "stdout",
     "output_type": "stream",
     "text": [
      "imgid: 29, cos_sim_b: 0.8768144845962524, cos_sim_h: 0.8953031301498413\n"
     ]
    },
    {
     "name": "stderr",
     "output_type": "stream",
     "text": [
      "AA: 100%|██████████| 40/40 [00:08<00:00,  4.76it/s, loss=3.87e+3]\n"
     ]
    },
    {
     "name": "stdout",
     "output_type": "stream",
     "text": [
      "imgid: 30, cos_sim_b: 0.8265798687934875, cos_sim_h: 0.8670428395271301\n"
     ]
    },
    {
     "name": "stderr",
     "output_type": "stream",
     "text": [
      "AA: 100%|██████████| 40/40 [00:08<00:00,  4.76it/s, loss=4.32e+3]\n"
     ]
    },
    {
     "name": "stdout",
     "output_type": "stream",
     "text": [
      "imgid: 31, cos_sim_b: 0.8574343323707581, cos_sim_h: 0.9063034057617188\n"
     ]
    },
    {
     "name": "stderr",
     "output_type": "stream",
     "text": [
      "AA: 100%|██████████| 40/40 [00:08<00:00,  4.76it/s, loss=3.61e+3]\n"
     ]
    },
    {
     "name": "stdout",
     "output_type": "stream",
     "text": [
      "imgid: 32, cos_sim_b: 0.7996178269386292, cos_sim_h: 0.8312844038009644\n"
     ]
    },
    {
     "name": "stderr",
     "output_type": "stream",
     "text": [
      "AA: 100%|██████████| 40/40 [00:08<00:00,  4.75it/s, loss=3.97e+3]\n"
     ]
    },
    {
     "name": "stdout",
     "output_type": "stream",
     "text": [
      "imgid: 33, cos_sim_b: 0.8241366744041443, cos_sim_h: 0.8597068786621094\n"
     ]
    },
    {
     "name": "stderr",
     "output_type": "stream",
     "text": [
      "AA: 100%|██████████| 40/40 [00:08<00:00,  4.77it/s, loss=3.99e+3]\n"
     ]
    },
    {
     "name": "stdout",
     "output_type": "stream",
     "text": [
      "imgid: 34, cos_sim_b: 0.7526684403419495, cos_sim_h: 0.7993466258049011\n"
     ]
    },
    {
     "name": "stderr",
     "output_type": "stream",
     "text": [
      "AA: 100%|██████████| 40/40 [00:08<00:00,  4.76it/s, loss=4.18e+3]\n"
     ]
    },
    {
     "name": "stdout",
     "output_type": "stream",
     "text": [
      "imgid: 35, cos_sim_b: 0.8176631927490234, cos_sim_h: 0.8618617653846741\n"
     ]
    },
    {
     "name": "stderr",
     "output_type": "stream",
     "text": [
      "AA: 100%|██████████| 40/40 [00:08<00:00,  4.76it/s, loss=3.82e+3]\n"
     ]
    },
    {
     "name": "stdout",
     "output_type": "stream",
     "text": [
      "imgid: 36, cos_sim_b: 0.8896918892860413, cos_sim_h: 0.9331297278404236\n"
     ]
    },
    {
     "name": "stderr",
     "output_type": "stream",
     "text": [
      "AA: 100%|██████████| 40/40 [00:08<00:00,  4.77it/s, loss=4.16e+3]\n"
     ]
    },
    {
     "name": "stdout",
     "output_type": "stream",
     "text": [
      "imgid: 37, cos_sim_b: 0.8104926347732544, cos_sim_h: 0.8883152008056641\n"
     ]
    },
    {
     "name": "stderr",
     "output_type": "stream",
     "text": [
      "AA: 100%|██████████| 40/40 [00:08<00:00,  4.77it/s, loss=4.07e+3]\n"
     ]
    },
    {
     "name": "stdout",
     "output_type": "stream",
     "text": [
      "imgid: 38, cos_sim_b: 0.816860556602478, cos_sim_h: 0.8628019690513611\n"
     ]
    },
    {
     "name": "stderr",
     "output_type": "stream",
     "text": [
      "AA: 100%|██████████| 40/40 [00:08<00:00,  4.76it/s, loss=3.71e+3]\n"
     ]
    },
    {
     "name": "stdout",
     "output_type": "stream",
     "text": [
      "imgid: 39, cos_sim_b: 0.8963238000869751, cos_sim_h: 0.8848276138305664\n"
     ]
    },
    {
     "name": "stderr",
     "output_type": "stream",
     "text": [
      "AA: 100%|██████████| 40/40 [00:08<00:00,  4.77it/s, loss=3.49e+3]\n"
     ]
    },
    {
     "name": "stdout",
     "output_type": "stream",
     "text": [
      "imgid: 40, cos_sim_b: 0.8115272521972656, cos_sim_h: 0.8502581119537354\n"
     ]
    },
    {
     "name": "stderr",
     "output_type": "stream",
     "text": [
      "AA: 100%|██████████| 40/40 [00:08<00:00,  4.76it/s, loss=4.01e+3]\n"
     ]
    },
    {
     "name": "stdout",
     "output_type": "stream",
     "text": [
      "imgid: 41, cos_sim_b: 0.6959359049797058, cos_sim_h: 0.7758814096450806\n"
     ]
    },
    {
     "name": "stderr",
     "output_type": "stream",
     "text": [
      "AA: 100%|██████████| 40/40 [00:08<00:00,  4.78it/s, loss=3.87e+3]\n"
     ]
    },
    {
     "name": "stdout",
     "output_type": "stream",
     "text": [
      "imgid: 42, cos_sim_b: 0.6992566585540771, cos_sim_h: 0.7649438381195068\n"
     ]
    },
    {
     "name": "stderr",
     "output_type": "stream",
     "text": [
      "AA: 100%|██████████| 40/40 [00:08<00:00,  4.78it/s, loss=4.41e+3]\n"
     ]
    },
    {
     "name": "stdout",
     "output_type": "stream",
     "text": [
      "imgid: 43, cos_sim_b: 0.8348336219787598, cos_sim_h: 0.9054412841796875\n"
     ]
    },
    {
     "name": "stderr",
     "output_type": "stream",
     "text": [
      "AA: 100%|██████████| 40/40 [00:08<00:00,  4.78it/s, loss=4.18e+3]\n"
     ]
    },
    {
     "name": "stdout",
     "output_type": "stream",
     "text": [
      "imgid: 44, cos_sim_b: 0.8608226776123047, cos_sim_h: 0.897251546382904\n"
     ]
    },
    {
     "name": "stderr",
     "output_type": "stream",
     "text": [
      "AA: 100%|██████████| 40/40 [00:08<00:00,  4.78it/s, loss=3.67e+3]\n"
     ]
    },
    {
     "name": "stdout",
     "output_type": "stream",
     "text": [
      "imgid: 45, cos_sim_b: 0.6398957967758179, cos_sim_h: 0.7001495361328125\n"
     ]
    },
    {
     "name": "stderr",
     "output_type": "stream",
     "text": [
      "AA: 100%|██████████| 40/40 [00:08<00:00,  4.79it/s, loss=3.56e+3]\n"
     ]
    },
    {
     "name": "stdout",
     "output_type": "stream",
     "text": [
      "imgid: 46, cos_sim_b: 0.7209053039550781, cos_sim_h: 0.7971798181533813\n"
     ]
    },
    {
     "name": "stderr",
     "output_type": "stream",
     "text": [
      "AA: 100%|██████████| 40/40 [00:08<00:00,  4.79it/s, loss=3.88e+3]\n"
     ]
    },
    {
     "name": "stdout",
     "output_type": "stream",
     "text": [
      "imgid: 47, cos_sim_b: 0.7763187885284424, cos_sim_h: 0.8458123803138733\n"
     ]
    },
    {
     "name": "stderr",
     "output_type": "stream",
     "text": [
      "AA: 100%|██████████| 40/40 [00:08<00:00,  4.79it/s, loss=4.18e+3]\n"
     ]
    },
    {
     "name": "stdout",
     "output_type": "stream",
     "text": [
      "imgid: 48, cos_sim_b: 0.765906572341919, cos_sim_h: 0.8097031712532043\n"
     ]
    },
    {
     "name": "stderr",
     "output_type": "stream",
     "text": [
      "AA: 100%|██████████| 40/40 [00:08<00:00,  4.79it/s, loss=3.72e+3]\n"
     ]
    },
    {
     "name": "stdout",
     "output_type": "stream",
     "text": [
      "imgid: 49, cos_sim_b: 0.7971864938735962, cos_sim_h: 0.8312281370162964\n"
     ]
    },
    {
     "name": "stderr",
     "output_type": "stream",
     "text": [
      "AA: 100%|██████████| 40/40 [00:08<00:00,  4.79it/s, loss=3.8e+3] \n"
     ]
    },
    {
     "name": "stdout",
     "output_type": "stream",
     "text": [
      "imgid: 50, cos_sim_b: 0.7747179269790649, cos_sim_h: 0.7872554063796997\n"
     ]
    },
    {
     "name": "stderr",
     "output_type": "stream",
     "text": [
      "AA: 100%|██████████| 40/40 [00:08<00:00,  4.77it/s, loss=4.54e+3]\n"
     ]
    },
    {
     "name": "stdout",
     "output_type": "stream",
     "text": [
      "imgid: 51, cos_sim_b: 0.8479878902435303, cos_sim_h: 0.9023476839065552\n"
     ]
    },
    {
     "name": "stderr",
     "output_type": "stream",
     "text": [
      "AA: 100%|██████████| 40/40 [00:08<00:00,  4.78it/s, loss=3.88e+3]\n"
     ]
    },
    {
     "name": "stdout",
     "output_type": "stream",
     "text": [
      "imgid: 52, cos_sim_b: 0.8598013520240784, cos_sim_h: 0.8784896731376648\n"
     ]
    },
    {
     "name": "stderr",
     "output_type": "stream",
     "text": [
      "AA: 100%|██████████| 40/40 [00:08<00:00,  4.77it/s, loss=4.83e+3]\n"
     ]
    },
    {
     "name": "stdout",
     "output_type": "stream",
     "text": [
      "imgid: 53, cos_sim_b: 0.8958306312561035, cos_sim_h: 0.922751247882843\n"
     ]
    },
    {
     "name": "stderr",
     "output_type": "stream",
     "text": [
      "AA: 100%|██████████| 40/40 [00:08<00:00,  4.77it/s, loss=3.84e+3]\n"
     ]
    },
    {
     "name": "stdout",
     "output_type": "stream",
     "text": [
      "imgid: 54, cos_sim_b: 0.7819956541061401, cos_sim_h: 0.8152663707733154\n"
     ]
    },
    {
     "name": "stderr",
     "output_type": "stream",
     "text": [
      "AA: 100%|██████████| 40/40 [00:08<00:00,  4.77it/s, loss=4.16e+3]\n"
     ]
    },
    {
     "name": "stdout",
     "output_type": "stream",
     "text": [
      "imgid: 55, cos_sim_b: 0.7495495676994324, cos_sim_h: 0.8795726299285889\n"
     ]
    },
    {
     "name": "stderr",
     "output_type": "stream",
     "text": [
      "AA: 100%|██████████| 40/40 [00:08<00:00,  4.77it/s, loss=4.04e+3]\n"
     ]
    },
    {
     "name": "stdout",
     "output_type": "stream",
     "text": [
      "imgid: 56, cos_sim_b: 0.8514323234558105, cos_sim_h: 0.9232497215270996\n"
     ]
    },
    {
     "name": "stderr",
     "output_type": "stream",
     "text": [
      "AA: 100%|██████████| 40/40 [00:08<00:00,  4.76it/s, loss=4.79e+3]\n"
     ]
    },
    {
     "name": "stdout",
     "output_type": "stream",
     "text": [
      "imgid: 57, cos_sim_b: 0.8379586935043335, cos_sim_h: 0.9071142077445984\n"
     ]
    },
    {
     "name": "stderr",
     "output_type": "stream",
     "text": [
      "AA: 100%|██████████| 40/40 [00:08<00:00,  4.78it/s, loss=3.26e+3]\n"
     ]
    },
    {
     "name": "stdout",
     "output_type": "stream",
     "text": [
      "imgid: 58, cos_sim_b: 0.8794398307800293, cos_sim_h: 0.8906135559082031\n"
     ]
    },
    {
     "name": "stderr",
     "output_type": "stream",
     "text": [
      "AA: 100%|██████████| 40/40 [00:08<00:00,  4.77it/s, loss=4.18e+3]\n"
     ]
    },
    {
     "name": "stdout",
     "output_type": "stream",
     "text": [
      "imgid: 59, cos_sim_b: 0.8672453165054321, cos_sim_h: 0.9167057275772095\n"
     ]
    },
    {
     "name": "stderr",
     "output_type": "stream",
     "text": [
      "AA: 100%|██████████| 40/40 [00:08<00:00,  4.78it/s, loss=4.41e+3]\n"
     ]
    },
    {
     "name": "stdout",
     "output_type": "stream",
     "text": [
      "imgid: 60, cos_sim_b: 0.8219726085662842, cos_sim_h: 0.869263768196106\n"
     ]
    },
    {
     "name": "stderr",
     "output_type": "stream",
     "text": [
      "AA: 100%|██████████| 40/40 [00:08<00:00,  4.79it/s, loss=4.52e+3]\n"
     ]
    },
    {
     "name": "stdout",
     "output_type": "stream",
     "text": [
      "imgid: 61, cos_sim_b: 0.849869966506958, cos_sim_h: 0.8547245264053345\n"
     ]
    },
    {
     "name": "stderr",
     "output_type": "stream",
     "text": [
      "AA: 100%|██████████| 40/40 [00:08<00:00,  4.79it/s, loss=3.79e+3]\n"
     ]
    },
    {
     "name": "stdout",
     "output_type": "stream",
     "text": [
      "imgid: 62, cos_sim_b: 0.795173704624176, cos_sim_h: 0.8622627854347229\n"
     ]
    },
    {
     "name": "stderr",
     "output_type": "stream",
     "text": [
      "AA: 100%|██████████| 40/40 [00:08<00:00,  4.79it/s, loss=3.56e+3]\n"
     ]
    },
    {
     "name": "stdout",
     "output_type": "stream",
     "text": [
      "imgid: 63, cos_sim_b: 0.8101581335067749, cos_sim_h: 0.8318767547607422\n"
     ]
    },
    {
     "name": "stderr",
     "output_type": "stream",
     "text": [
      "AA: 100%|██████████| 40/40 [00:08<00:00,  4.78it/s, loss=3.65e+3]\n"
     ]
    },
    {
     "name": "stdout",
     "output_type": "stream",
     "text": [
      "imgid: 64, cos_sim_b: 0.7813571691513062, cos_sim_h: 0.8240771293640137\n"
     ]
    },
    {
     "name": "stderr",
     "output_type": "stream",
     "text": [
      "AA: 100%|██████████| 40/40 [00:08<00:00,  4.78it/s, loss=3.85e+3]\n"
     ]
    },
    {
     "name": "stdout",
     "output_type": "stream",
     "text": [
      "imgid: 65, cos_sim_b: 0.7300094366073608, cos_sim_h: 0.8062375783920288\n"
     ]
    },
    {
     "name": "stderr",
     "output_type": "stream",
     "text": [
      "AA: 100%|██████████| 40/40 [00:08<00:00,  4.77it/s, loss=3.79e+3]\n"
     ]
    },
    {
     "name": "stdout",
     "output_type": "stream",
     "text": [
      "imgid: 66, cos_sim_b: 0.8109489679336548, cos_sim_h: 0.8510812520980835\n"
     ]
    },
    {
     "name": "stderr",
     "output_type": "stream",
     "text": [
      "AA: 100%|██████████| 40/40 [00:08<00:00,  4.76it/s, loss=4.15e+3]\n"
     ]
    },
    {
     "name": "stdout",
     "output_type": "stream",
     "text": [
      "imgid: 67, cos_sim_b: 0.8838226795196533, cos_sim_h: 0.9117827415466309\n"
     ]
    },
    {
     "name": "stderr",
     "output_type": "stream",
     "text": [
      "AA: 100%|██████████| 40/40 [00:08<00:00,  4.78it/s, loss=3.65e+3]\n"
     ]
    },
    {
     "name": "stdout",
     "output_type": "stream",
     "text": [
      "imgid: 68, cos_sim_b: 0.7740446925163269, cos_sim_h: 0.8019713163375854\n"
     ]
    },
    {
     "name": "stderr",
     "output_type": "stream",
     "text": [
      "AA: 100%|██████████| 40/40 [00:08<00:00,  4.77it/s, loss=3.81e+3]\n"
     ]
    },
    {
     "name": "stdout",
     "output_type": "stream",
     "text": [
      "imgid: 69, cos_sim_b: 0.8484993577003479, cos_sim_h: 0.8832776546478271\n"
     ]
    },
    {
     "name": "stderr",
     "output_type": "stream",
     "text": [
      "AA: 100%|██████████| 40/40 [00:08<00:00,  4.76it/s, loss=4.25e+3]\n"
     ]
    },
    {
     "name": "stdout",
     "output_type": "stream",
     "text": [
      "imgid: 70, cos_sim_b: 0.9023116827011108, cos_sim_h: 0.9356322288513184\n"
     ]
    },
    {
     "name": "stderr",
     "output_type": "stream",
     "text": [
      "AA: 100%|██████████| 40/40 [00:08<00:00,  4.76it/s, loss=3.87e+3]\n"
     ]
    },
    {
     "name": "stdout",
     "output_type": "stream",
     "text": [
      "imgid: 71, cos_sim_b: 0.9223096370697021, cos_sim_h: 0.9494880437850952\n"
     ]
    },
    {
     "name": "stderr",
     "output_type": "stream",
     "text": [
      "AA: 100%|██████████| 40/40 [00:08<00:00,  4.76it/s, loss=4.68e+3]\n"
     ]
    },
    {
     "name": "stdout",
     "output_type": "stream",
     "text": [
      "imgid: 72, cos_sim_b: 0.8913478851318359, cos_sim_h: 0.9185404777526855\n"
     ]
    },
    {
     "name": "stderr",
     "output_type": "stream",
     "text": [
      "AA: 100%|██████████| 40/40 [00:08<00:00,  4.76it/s, loss=3.75e+3]\n"
     ]
    },
    {
     "name": "stdout",
     "output_type": "stream",
     "text": [
      "imgid: 73, cos_sim_b: 0.9099652767181396, cos_sim_h: 0.9137008190155029\n"
     ]
    },
    {
     "name": "stderr",
     "output_type": "stream",
     "text": [
      "AA: 100%|██████████| 40/40 [00:08<00:00,  4.80it/s, loss=3.51e+3]\n"
     ]
    },
    {
     "name": "stdout",
     "output_type": "stream",
     "text": [
      "imgid: 74, cos_sim_b: 0.959520161151886, cos_sim_h: 0.9699279069900513\n"
     ]
    },
    {
     "name": "stderr",
     "output_type": "stream",
     "text": [
      "AA: 100%|██████████| 40/40 [00:08<00:00,  4.79it/s, loss=4.44e+3]\n"
     ]
    },
    {
     "name": "stdout",
     "output_type": "stream",
     "text": [
      "imgid: 75, cos_sim_b: 0.8934528827667236, cos_sim_h: 0.907669186592102\n"
     ]
    },
    {
     "name": "stderr",
     "output_type": "stream",
     "text": [
      "AA: 100%|██████████| 40/40 [00:08<00:00,  4.79it/s, loss=4e+3]   \n"
     ]
    },
    {
     "name": "stdout",
     "output_type": "stream",
     "text": [
      "imgid: 76, cos_sim_b: 0.804405152797699, cos_sim_h: 0.8662815093994141\n"
     ]
    },
    {
     "name": "stderr",
     "output_type": "stream",
     "text": [
      "AA: 100%|██████████| 40/40 [00:08<00:00,  4.80it/s, loss=3.72e+3]\n"
     ]
    },
    {
     "name": "stdout",
     "output_type": "stream",
     "text": [
      "imgid: 77, cos_sim_b: 0.7626373767852783, cos_sim_h: 0.822526216506958\n"
     ]
    },
    {
     "name": "stderr",
     "output_type": "stream",
     "text": [
      "AA: 100%|██████████| 40/40 [00:08<00:00,  4.78it/s, loss=3.88e+3]\n"
     ]
    },
    {
     "name": "stdout",
     "output_type": "stream",
     "text": [
      "imgid: 78, cos_sim_b: 0.7528078556060791, cos_sim_h: 0.8249690532684326\n"
     ]
    },
    {
     "name": "stderr",
     "output_type": "stream",
     "text": [
      "AA: 100%|██████████| 40/40 [00:08<00:00,  4.78it/s, loss=3.32e+3]\n"
     ]
    },
    {
     "name": "stdout",
     "output_type": "stream",
     "text": [
      "imgid: 79, cos_sim_b: 0.8421221375465393, cos_sim_h: 0.8231346011161804\n"
     ]
    },
    {
     "name": "stderr",
     "output_type": "stream",
     "text": [
      "AA: 100%|██████████| 40/40 [00:08<00:00,  4.79it/s, loss=3.88e+3]\n"
     ]
    },
    {
     "name": "stdout",
     "output_type": "stream",
     "text": [
      "imgid: 80, cos_sim_b: 0.7774289846420288, cos_sim_h: 0.8282190561294556\n"
     ]
    },
    {
     "name": "stderr",
     "output_type": "stream",
     "text": [
      "AA: 100%|██████████| 40/40 [00:08<00:00,  4.80it/s, loss=3.56e+3]\n"
     ]
    },
    {
     "name": "stdout",
     "output_type": "stream",
     "text": [
      "imgid: 81, cos_sim_b: 0.7877482771873474, cos_sim_h: 0.8406418561935425\n"
     ]
    },
    {
     "name": "stderr",
     "output_type": "stream",
     "text": [
      "AA: 100%|██████████| 40/40 [00:08<00:00,  4.78it/s, loss=3.85e+3]\n"
     ]
    },
    {
     "name": "stdout",
     "output_type": "stream",
     "text": [
      "imgid: 82, cos_sim_b: 0.8703900575637817, cos_sim_h: 0.9042996764183044\n"
     ]
    },
    {
     "name": "stderr",
     "output_type": "stream",
     "text": [
      "AA: 100%|██████████| 40/40 [00:08<00:00,  4.77it/s, loss=4.03e+3]\n"
     ]
    },
    {
     "name": "stdout",
     "output_type": "stream",
     "text": [
      "imgid: 83, cos_sim_b: 0.9323811531066895, cos_sim_h: 0.9198873043060303\n"
     ]
    },
    {
     "name": "stderr",
     "output_type": "stream",
     "text": [
      "AA: 100%|██████████| 40/40 [00:08<00:00,  4.76it/s, loss=3.97e+3]\n"
     ]
    },
    {
     "name": "stdout",
     "output_type": "stream",
     "text": [
      "imgid: 84, cos_sim_b: 0.7969040870666504, cos_sim_h: 0.8646600246429443\n"
     ]
    },
    {
     "name": "stderr",
     "output_type": "stream",
     "text": [
      "AA: 100%|██████████| 40/40 [00:08<00:00,  4.77it/s, loss=4.24e+3]\n"
     ]
    },
    {
     "name": "stdout",
     "output_type": "stream",
     "text": [
      "imgid: 85, cos_sim_b: 0.8335157632827759, cos_sim_h: 0.8936350345611572\n"
     ]
    },
    {
     "name": "stderr",
     "output_type": "stream",
     "text": [
      "AA: 100%|██████████| 40/40 [00:08<00:00,  4.77it/s, loss=3.65e+3]\n"
     ]
    },
    {
     "name": "stdout",
     "output_type": "stream",
     "text": [
      "imgid: 86, cos_sim_b: 0.7475916743278503, cos_sim_h: 0.7859001159667969\n"
     ]
    },
    {
     "name": "stderr",
     "output_type": "stream",
     "text": [
      "AA: 100%|██████████| 40/40 [00:08<00:00,  4.77it/s, loss=3.71e+3]\n"
     ]
    },
    {
     "name": "stdout",
     "output_type": "stream",
     "text": [
      "imgid: 87, cos_sim_b: 0.8551766276359558, cos_sim_h: 0.9105348587036133\n"
     ]
    },
    {
     "name": "stderr",
     "output_type": "stream",
     "text": [
      "AA: 100%|██████████| 40/40 [00:08<00:00,  4.77it/s, loss=3.98e+3]\n"
     ]
    },
    {
     "name": "stdout",
     "output_type": "stream",
     "text": [
      "imgid: 88, cos_sim_b: 0.8224906921386719, cos_sim_h: 0.8696284890174866\n"
     ]
    },
    {
     "name": "stderr",
     "output_type": "stream",
     "text": [
      "AA: 100%|██████████| 40/40 [00:08<00:00,  4.77it/s, loss=4.83e+3]\n"
     ]
    },
    {
     "name": "stdout",
     "output_type": "stream",
     "text": [
      "imgid: 89, cos_sim_b: 0.9461087584495544, cos_sim_h: 0.9585616588592529\n"
     ]
    },
    {
     "name": "stderr",
     "output_type": "stream",
     "text": [
      "AA: 100%|██████████| 40/40 [00:08<00:00,  4.77it/s, loss=3.58e+3]\n"
     ]
    },
    {
     "name": "stdout",
     "output_type": "stream",
     "text": [
      "imgid: 90, cos_sim_b: 0.7839173674583435, cos_sim_h: 0.8528715372085571\n"
     ]
    },
    {
     "name": "stderr",
     "output_type": "stream",
     "text": [
      "AA: 100%|██████████| 40/40 [00:08<00:00,  4.78it/s, loss=3.86e+3]\n"
     ]
    },
    {
     "name": "stdout",
     "output_type": "stream",
     "text": [
      "imgid: 91, cos_sim_b: 0.7842544317245483, cos_sim_h: 0.8291530609130859\n"
     ]
    },
    {
     "name": "stderr",
     "output_type": "stream",
     "text": [
      "AA: 100%|██████████| 40/40 [00:08<00:00,  4.78it/s, loss=3.82e+3]\n"
     ]
    },
    {
     "name": "stdout",
     "output_type": "stream",
     "text": [
      "imgid: 92, cos_sim_b: 0.8176895380020142, cos_sim_h: 0.8700994253158569\n"
     ]
    },
    {
     "name": "stderr",
     "output_type": "stream",
     "text": [
      "AA: 100%|██████████| 40/40 [00:08<00:00,  4.77it/s, loss=4.07e+3]\n"
     ]
    },
    {
     "name": "stdout",
     "output_type": "stream",
     "text": [
      "imgid: 93, cos_sim_b: 0.793643593788147, cos_sim_h: 0.8369773626327515\n"
     ]
    },
    {
     "name": "stderr",
     "output_type": "stream",
     "text": [
      "AA: 100%|██████████| 40/40 [00:08<00:00,  4.78it/s, loss=4.3e+3] \n"
     ]
    },
    {
     "name": "stdout",
     "output_type": "stream",
     "text": [
      "imgid: 94, cos_sim_b: 0.8908265829086304, cos_sim_h: 0.9147263765335083\n"
     ]
    },
    {
     "name": "stderr",
     "output_type": "stream",
     "text": [
      "AA: 100%|██████████| 40/40 [00:08<00:00,  4.79it/s, loss=3.87e+3]\n"
     ]
    },
    {
     "name": "stdout",
     "output_type": "stream",
     "text": [
      "imgid: 95, cos_sim_b: 0.798990786075592, cos_sim_h: 0.822044849395752\n"
     ]
    },
    {
     "name": "stderr",
     "output_type": "stream",
     "text": [
      "AA: 100%|██████████| 40/40 [00:08<00:00,  4.77it/s, loss=4.69e+3]\n"
     ]
    },
    {
     "name": "stdout",
     "output_type": "stream",
     "text": [
      "imgid: 96, cos_sim_b: 0.9304395914077759, cos_sim_h: 0.9341732263565063\n"
     ]
    },
    {
     "name": "stderr",
     "output_type": "stream",
     "text": [
      "AA: 100%|██████████| 40/40 [00:08<00:00,  4.78it/s, loss=3.83e+3]\n"
     ]
    },
    {
     "name": "stdout",
     "output_type": "stream",
     "text": [
      "imgid: 97, cos_sim_b: 0.6401684284210205, cos_sim_h: 0.771244466304779\n"
     ]
    },
    {
     "name": "stderr",
     "output_type": "stream",
     "text": [
      "AA: 100%|██████████| 40/40 [00:08<00:00,  4.77it/s, loss=3.67e+3]\n"
     ]
    },
    {
     "name": "stdout",
     "output_type": "stream",
     "text": [
      "imgid: 98, cos_sim_b: 0.779710054397583, cos_sim_h: 0.7978570461273193\n"
     ]
    },
    {
     "name": "stderr",
     "output_type": "stream",
     "text": [
      "AA: 100%|██████████| 40/40 [00:08<00:00,  4.76it/s, loss=4.26e+3]\n"
     ]
    },
    {
     "name": "stdout",
     "output_type": "stream",
     "text": [
      "imgid: 99, cos_sim_b: 0.8485451936721802, cos_sim_h: 0.916035532951355\n"
     ]
    },
    {
     "name": "stderr",
     "output_type": "stream",
     "text": [
      "AA: 100%|██████████| 40/40 [00:08<00:00,  4.78it/s, loss=3.62e+3]\n"
     ]
    },
    {
     "name": "stdout",
     "output_type": "stream",
     "text": [
      "imgid: 100, cos_sim_b: 0.7405153512954712, cos_sim_h: 0.8095173835754395\n"
     ]
    },
    {
     "name": "stderr",
     "output_type": "stream",
     "text": [
      "AA: 100%|██████████| 40/40 [00:08<00:00,  4.78it/s, loss=3.58e+3]\n"
     ]
    },
    {
     "name": "stdout",
     "output_type": "stream",
     "text": [
      "imgid: 101, cos_sim_b: 0.8428889513015747, cos_sim_h: 0.8445234298706055\n"
     ]
    },
    {
     "name": "stderr",
     "output_type": "stream",
     "text": [
      "AA: 100%|██████████| 40/40 [00:08<00:00,  4.77it/s, loss=3.76e+3]\n"
     ]
    },
    {
     "name": "stdout",
     "output_type": "stream",
     "text": [
      "imgid: 102, cos_sim_b: 0.789474368095398, cos_sim_h: 0.8642808198928833\n"
     ]
    },
    {
     "name": "stderr",
     "output_type": "stream",
     "text": [
      "AA: 100%|██████████| 40/40 [00:08<00:00,  4.77it/s, loss=4.79e+3]\n"
     ]
    },
    {
     "name": "stdout",
     "output_type": "stream",
     "text": [
      "imgid: 103, cos_sim_b: 0.939056396484375, cos_sim_h: 0.920433521270752\n"
     ]
    },
    {
     "name": "stderr",
     "output_type": "stream",
     "text": [
      "AA: 100%|██████████| 40/40 [00:08<00:00,  4.78it/s, loss=3.34e+3]\n"
     ]
    },
    {
     "name": "stdout",
     "output_type": "stream",
     "text": [
      "imgid: 104, cos_sim_b: 0.7250513434410095, cos_sim_h: 0.7530296444892883\n"
     ]
    },
    {
     "name": "stderr",
     "output_type": "stream",
     "text": [
      "AA: 100%|██████████| 40/40 [00:08<00:00,  4.76it/s, loss=4.27e+3]\n"
     ]
    },
    {
     "name": "stdout",
     "output_type": "stream",
     "text": [
      "imgid: 105, cos_sim_b: 0.8364893794059753, cos_sim_h: 0.8745794892311096\n"
     ]
    },
    {
     "name": "stderr",
     "output_type": "stream",
     "text": [
      "AA: 100%|██████████| 40/40 [00:08<00:00,  4.77it/s, loss=4.2e+3] \n"
     ]
    },
    {
     "name": "stdout",
     "output_type": "stream",
     "text": [
      "imgid: 106, cos_sim_b: 0.9021251201629639, cos_sim_h: 0.9188612699508667\n"
     ]
    },
    {
     "name": "stderr",
     "output_type": "stream",
     "text": [
      "AA: 100%|██████████| 40/40 [00:08<00:00,  4.78it/s, loss=3.99e+3]\n"
     ]
    },
    {
     "name": "stdout",
     "output_type": "stream",
     "text": [
      "imgid: 107, cos_sim_b: 0.6993383169174194, cos_sim_h: 0.7196589708328247\n"
     ]
    },
    {
     "name": "stderr",
     "output_type": "stream",
     "text": [
      "AA: 100%|██████████| 40/40 [00:08<00:00,  4.78it/s, loss=3.7e+3] \n"
     ]
    },
    {
     "name": "stdout",
     "output_type": "stream",
     "text": [
      "imgid: 108, cos_sim_b: 0.7203061580657959, cos_sim_h: 0.785590648651123\n"
     ]
    },
    {
     "name": "stderr",
     "output_type": "stream",
     "text": [
      "AA: 100%|██████████| 40/40 [00:08<00:00,  4.79it/s, loss=4.56e+3]\n"
     ]
    },
    {
     "name": "stdout",
     "output_type": "stream",
     "text": [
      "imgid: 109, cos_sim_b: 0.8594167232513428, cos_sim_h: 0.9126300811767578\n"
     ]
    },
    {
     "name": "stderr",
     "output_type": "stream",
     "text": [
      "AA: 100%|██████████| 40/40 [00:08<00:00,  4.78it/s, loss=4.03e+3]\n"
     ]
    },
    {
     "name": "stdout",
     "output_type": "stream",
     "text": [
      "imgid: 110, cos_sim_b: 0.7684845924377441, cos_sim_h: 0.842242956161499\n"
     ]
    },
    {
     "name": "stderr",
     "output_type": "stream",
     "text": [
      "AA: 100%|██████████| 40/40 [00:08<00:00,  4.76it/s, loss=4.23e+3]\n"
     ]
    },
    {
     "name": "stdout",
     "output_type": "stream",
     "text": [
      "imgid: 111, cos_sim_b: 0.7441195249557495, cos_sim_h: 0.7723429203033447\n"
     ]
    },
    {
     "name": "stderr",
     "output_type": "stream",
     "text": [
      "AA: 100%|██████████| 40/40 [00:08<00:00,  4.77it/s, loss=4.32e+3]\n"
     ]
    },
    {
     "name": "stdout",
     "output_type": "stream",
     "text": [
      "imgid: 112, cos_sim_b: 0.8734963536262512, cos_sim_h: 0.9373345375061035\n"
     ]
    },
    {
     "name": "stderr",
     "output_type": "stream",
     "text": [
      "AA: 100%|██████████| 40/40 [00:08<00:00,  4.76it/s, loss=4.56e+3]\n"
     ]
    },
    {
     "name": "stdout",
     "output_type": "stream",
     "text": [
      "imgid: 113, cos_sim_b: 0.8563371300697327, cos_sim_h: 0.8429110050201416\n"
     ]
    },
    {
     "name": "stderr",
     "output_type": "stream",
     "text": [
      "AA: 100%|██████████| 40/40 [00:08<00:00,  4.76it/s, loss=4.44e+3]\n"
     ]
    },
    {
     "name": "stdout",
     "output_type": "stream",
     "text": [
      "imgid: 114, cos_sim_b: 0.8153042793273926, cos_sim_h: 0.8853644728660583\n"
     ]
    },
    {
     "name": "stderr",
     "output_type": "stream",
     "text": [
      "AA: 100%|██████████| 40/40 [00:08<00:00,  4.77it/s, loss=4.13e+3]\n"
     ]
    },
    {
     "name": "stdout",
     "output_type": "stream",
     "text": [
      "imgid: 115, cos_sim_b: 0.7882258296012878, cos_sim_h: 0.857363760471344\n"
     ]
    },
    {
     "name": "stderr",
     "output_type": "stream",
     "text": [
      "AA: 100%|██████████| 40/40 [00:08<00:00,  4.76it/s, loss=4.36e+3]\n"
     ]
    },
    {
     "name": "stdout",
     "output_type": "stream",
     "text": [
      "imgid: 116, cos_sim_b: 0.9526063799858093, cos_sim_h: 0.9723612070083618\n"
     ]
    },
    {
     "name": "stderr",
     "output_type": "stream",
     "text": [
      "AA: 100%|██████████| 40/40 [00:08<00:00,  4.76it/s, loss=4.4e+3] \n"
     ]
    },
    {
     "name": "stdout",
     "output_type": "stream",
     "text": [
      "imgid: 117, cos_sim_b: 0.9042532444000244, cos_sim_h: 0.9412104487419128\n"
     ]
    },
    {
     "name": "stderr",
     "output_type": "stream",
     "text": [
      "AA: 100%|██████████| 40/40 [00:08<00:00,  4.76it/s, loss=4.62e+3]\n"
     ]
    },
    {
     "name": "stdout",
     "output_type": "stream",
     "text": [
      "imgid: 118, cos_sim_b: 0.924953818321228, cos_sim_h: 0.9438683986663818\n"
     ]
    },
    {
     "name": "stderr",
     "output_type": "stream",
     "text": [
      "AA: 100%|██████████| 40/40 [00:08<00:00,  4.76it/s, loss=3.88e+3]\n"
     ]
    },
    {
     "name": "stdout",
     "output_type": "stream",
     "text": [
      "imgid: 119, cos_sim_b: 0.7708292007446289, cos_sim_h: 0.7988736033439636\n"
     ]
    },
    {
     "name": "stderr",
     "output_type": "stream",
     "text": [
      "AA: 100%|██████████| 40/40 [00:08<00:00,  4.77it/s, loss=4.49e+3]\n"
     ]
    },
    {
     "name": "stdout",
     "output_type": "stream",
     "text": [
      "imgid: 120, cos_sim_b: 0.8516044616699219, cos_sim_h: 0.9033956527709961\n"
     ]
    },
    {
     "name": "stderr",
     "output_type": "stream",
     "text": [
      "AA: 100%|██████████| 40/40 [00:08<00:00,  4.76it/s, loss=4.03e+3]\n"
     ]
    },
    {
     "name": "stdout",
     "output_type": "stream",
     "text": [
      "imgid: 121, cos_sim_b: 0.88969886302948, cos_sim_h: 0.8899410963058472\n"
     ]
    },
    {
     "name": "stderr",
     "output_type": "stream",
     "text": [
      "AA: 100%|██████████| 40/40 [00:08<00:00,  4.76it/s, loss=4.22e+3]\n"
     ]
    },
    {
     "name": "stdout",
     "output_type": "stream",
     "text": [
      "imgid: 122, cos_sim_b: 0.8016166687011719, cos_sim_h: 0.854623556137085\n"
     ]
    },
    {
     "name": "stderr",
     "output_type": "stream",
     "text": [
      "AA: 100%|██████████| 40/40 [00:08<00:00,  4.76it/s, loss=4.18e+3]\n"
     ]
    },
    {
     "name": "stdout",
     "output_type": "stream",
     "text": [
      "imgid: 123, cos_sim_b: 0.8300065994262695, cos_sim_h: 0.8657281398773193\n"
     ]
    },
    {
     "name": "stderr",
     "output_type": "stream",
     "text": [
      "AA: 100%|██████████| 40/40 [00:08<00:00,  4.76it/s, loss=4.15e+3]\n"
     ]
    },
    {
     "name": "stdout",
     "output_type": "stream",
     "text": [
      "imgid: 124, cos_sim_b: 0.8361200094223022, cos_sim_h: 0.884141206741333\n"
     ]
    },
    {
     "name": "stderr",
     "output_type": "stream",
     "text": [
      "AA: 100%|██████████| 40/40 [00:08<00:00,  4.76it/s, loss=4.6e+3] \n"
     ]
    },
    {
     "name": "stdout",
     "output_type": "stream",
     "text": [
      "imgid: 125, cos_sim_b: 0.8791176676750183, cos_sim_h: 0.9653998613357544\n"
     ]
    },
    {
     "name": "stderr",
     "output_type": "stream",
     "text": [
      "AA: 100%|██████████| 40/40 [00:08<00:00,  4.77it/s, loss=3.62e+3]\n"
     ]
    },
    {
     "name": "stdout",
     "output_type": "stream",
     "text": [
      "imgid: 126, cos_sim_b: 0.8876574039459229, cos_sim_h: 0.9137714505195618\n"
     ]
    },
    {
     "name": "stderr",
     "output_type": "stream",
     "text": [
      "AA: 100%|██████████| 40/40 [00:08<00:00,  4.76it/s, loss=4.07e+3]\n"
     ]
    },
    {
     "name": "stdout",
     "output_type": "stream",
     "text": [
      "imgid: 127, cos_sim_b: 0.9015477895736694, cos_sim_h: 0.9274735450744629\n"
     ]
    },
    {
     "name": "stderr",
     "output_type": "stream",
     "text": [
      "AA: 100%|██████████| 40/40 [00:08<00:00,  4.77it/s, loss=3.63e+3]\n"
     ]
    },
    {
     "name": "stdout",
     "output_type": "stream",
     "text": [
      "imgid: 128, cos_sim_b: 0.8251222372055054, cos_sim_h: 0.8524155616760254\n"
     ]
    },
    {
     "name": "stderr",
     "output_type": "stream",
     "text": [
      "AA: 100%|██████████| 40/40 [00:08<00:00,  4.76it/s, loss=3.79e+3]\n"
     ]
    },
    {
     "name": "stdout",
     "output_type": "stream",
     "text": [
      "imgid: 129, cos_sim_b: 0.6672248244285583, cos_sim_h: 0.7128041386604309\n"
     ]
    },
    {
     "name": "stderr",
     "output_type": "stream",
     "text": [
      "AA: 100%|██████████| 40/40 [00:08<00:00,  4.77it/s, loss=4.21e+3]\n"
     ]
    },
    {
     "name": "stdout",
     "output_type": "stream",
     "text": [
      "imgid: 130, cos_sim_b: 0.9196610450744629, cos_sim_h: 0.9259172677993774\n"
     ]
    },
    {
     "name": "stderr",
     "output_type": "stream",
     "text": [
      "AA: 100%|██████████| 40/40 [00:08<00:00,  4.77it/s, loss=4.82e+3]\n"
     ]
    },
    {
     "name": "stdout",
     "output_type": "stream",
     "text": [
      "imgid: 131, cos_sim_b: 0.8527655601501465, cos_sim_h: 0.9093734622001648\n"
     ]
    },
    {
     "name": "stderr",
     "output_type": "stream",
     "text": [
      "AA: 100%|██████████| 40/40 [00:08<00:00,  4.76it/s, loss=3.95e+3]\n"
     ]
    },
    {
     "name": "stdout",
     "output_type": "stream",
     "text": [
      "imgid: 132, cos_sim_b: 0.8120805025100708, cos_sim_h: 0.8684287071228027\n"
     ]
    },
    {
     "name": "stderr",
     "output_type": "stream",
     "text": [
      "AA: 100%|██████████| 40/40 [00:08<00:00,  4.76it/s, loss=4.28e+3]\n"
     ]
    },
    {
     "name": "stdout",
     "output_type": "stream",
     "text": [
      "imgid: 133, cos_sim_b: 0.886040210723877, cos_sim_h: 0.9239449501037598\n"
     ]
    },
    {
     "name": "stderr",
     "output_type": "stream",
     "text": [
      "AA: 100%|██████████| 40/40 [00:08<00:00,  4.76it/s, loss=3.76e+3]\n"
     ]
    },
    {
     "name": "stdout",
     "output_type": "stream",
     "text": [
      "imgid: 134, cos_sim_b: 0.8183524012565613, cos_sim_h: 0.8831126689910889\n"
     ]
    },
    {
     "name": "stderr",
     "output_type": "stream",
     "text": [
      "AA: 100%|██████████| 40/40 [00:07<00:00,  5.02it/s, loss=0]\n"
     ]
    },
    {
     "name": "stdout",
     "output_type": "stream",
     "text": [
      "imgid: 135, cos_sim_b: 0.9938164949417114, cos_sim_h: 0.9941757917404175\n"
     ]
    },
    {
     "name": "stderr",
     "output_type": "stream",
     "text": [
      "AA: 100%|██████████| 40/40 [00:08<00:00,  4.78it/s, loss=4.17e+3]\n"
     ]
    },
    {
     "name": "stdout",
     "output_type": "stream",
     "text": [
      "imgid: 136, cos_sim_b: 0.8234893083572388, cos_sim_h: 0.9066534042358398\n"
     ]
    },
    {
     "name": "stderr",
     "output_type": "stream",
     "text": [
      "AA: 100%|██████████| 40/40 [00:08<00:00,  4.78it/s, loss=3.57e+3]\n"
     ]
    },
    {
     "name": "stdout",
     "output_type": "stream",
     "text": [
      "imgid: 137, cos_sim_b: 0.7620822191238403, cos_sim_h: 0.8274247646331787\n"
     ]
    },
    {
     "name": "stderr",
     "output_type": "stream",
     "text": [
      "AA: 100%|██████████| 40/40 [00:08<00:00,  4.78it/s, loss=3.72e+3]\n"
     ]
    },
    {
     "name": "stdout",
     "output_type": "stream",
     "text": [
      "imgid: 138, cos_sim_b: 0.7957543134689331, cos_sim_h: 0.8483356833457947\n"
     ]
    },
    {
     "name": "stderr",
     "output_type": "stream",
     "text": [
      "AA: 100%|██████████| 40/40 [00:08<00:00,  4.78it/s, loss=3.58e+3]\n"
     ]
    },
    {
     "name": "stdout",
     "output_type": "stream",
     "text": [
      "imgid: 139, cos_sim_b: 0.8058294057846069, cos_sim_h: 0.8572895526885986\n"
     ]
    },
    {
     "name": "stderr",
     "output_type": "stream",
     "text": [
      "AA: 100%|██████████| 40/40 [00:08<00:00,  4.78it/s, loss=4.41e+3]\n"
     ]
    },
    {
     "name": "stdout",
     "output_type": "stream",
     "text": [
      "imgid: 140, cos_sim_b: 0.8836733102798462, cos_sim_h: 0.901628315448761\n"
     ]
    },
    {
     "name": "stderr",
     "output_type": "stream",
     "text": [
      "AA: 100%|██████████| 40/40 [00:08<00:00,  4.77it/s, loss=4.29e+3]\n"
     ]
    },
    {
     "name": "stdout",
     "output_type": "stream",
     "text": [
      "imgid: 141, cos_sim_b: 0.8757069110870361, cos_sim_h: 0.9006994962692261\n"
     ]
    },
    {
     "name": "stderr",
     "output_type": "stream",
     "text": [
      "AA: 100%|██████████| 40/40 [00:08<00:00,  4.77it/s, loss=4.39e+3]\n"
     ]
    },
    {
     "name": "stdout",
     "output_type": "stream",
     "text": [
      "imgid: 142, cos_sim_b: 0.8770334720611572, cos_sim_h: 0.8692115545272827\n"
     ]
    },
    {
     "name": "stderr",
     "output_type": "stream",
     "text": [
      "AA: 100%|██████████| 40/40 [00:08<00:00,  4.77it/s, loss=4.47e+3]\n"
     ]
    },
    {
     "name": "stdout",
     "output_type": "stream",
     "text": [
      "imgid: 143, cos_sim_b: 0.9213956594467163, cos_sim_h: 0.9371767044067383\n"
     ]
    },
    {
     "name": "stderr",
     "output_type": "stream",
     "text": [
      "AA: 100%|██████████| 40/40 [00:08<00:00,  4.79it/s, loss=3.82e+3]\n"
     ]
    },
    {
     "name": "stdout",
     "output_type": "stream",
     "text": [
      "imgid: 144, cos_sim_b: 0.7015835046768188, cos_sim_h: 0.8685601949691772\n"
     ]
    },
    {
     "name": "stderr",
     "output_type": "stream",
     "text": [
      "AA: 100%|██████████| 40/40 [00:08<00:00,  4.77it/s, loss=4.19e+3]\n"
     ]
    },
    {
     "name": "stdout",
     "output_type": "stream",
     "text": [
      "imgid: 145, cos_sim_b: 0.7884529829025269, cos_sim_h: 0.8190979957580566\n"
     ]
    },
    {
     "name": "stderr",
     "output_type": "stream",
     "text": [
      "AA: 100%|██████████| 40/40 [00:08<00:00,  4.77it/s, loss=4.31e+3]\n"
     ]
    },
    {
     "name": "stdout",
     "output_type": "stream",
     "text": [
      "imgid: 146, cos_sim_b: 0.8566495180130005, cos_sim_h: 0.8954378366470337\n"
     ]
    },
    {
     "name": "stderr",
     "output_type": "stream",
     "text": [
      "AA: 100%|██████████| 40/40 [00:08<00:00,  4.77it/s, loss=4.14e+3]\n"
     ]
    },
    {
     "name": "stdout",
     "output_type": "stream",
     "text": [
      "imgid: 147, cos_sim_b: 0.8425413966178894, cos_sim_h: 0.8416192531585693\n"
     ]
    },
    {
     "name": "stderr",
     "output_type": "stream",
     "text": [
      "AA: 100%|██████████| 40/40 [00:08<00:00,  4.77it/s, loss=4.12e+3]\n"
     ]
    },
    {
     "name": "stdout",
     "output_type": "stream",
     "text": [
      "imgid: 148, cos_sim_b: 0.8429074883460999, cos_sim_h: 0.8362501859664917\n"
     ]
    },
    {
     "name": "stderr",
     "output_type": "stream",
     "text": [
      "AA: 100%|██████████| 40/40 [00:08<00:00,  4.77it/s, loss=4.29e+3]\n"
     ]
    },
    {
     "name": "stdout",
     "output_type": "stream",
     "text": [
      "imgid: 149, cos_sim_b: 0.7559928894042969, cos_sim_h: 0.7827099561691284\n"
     ]
    },
    {
     "name": "stderr",
     "output_type": "stream",
     "text": [
      "AA: 100%|██████████| 40/40 [00:08<00:00,  4.76it/s, loss=4.15e+3]\n"
     ]
    },
    {
     "name": "stdout",
     "output_type": "stream",
     "text": [
      "imgid: 150, cos_sim_b: 0.9007697105407715, cos_sim_h: 0.9233829379081726\n"
     ]
    },
    {
     "name": "stderr",
     "output_type": "stream",
     "text": [
      "AA: 100%|██████████| 40/40 [00:08<00:00,  4.77it/s, loss=4.06e+3]\n"
     ]
    },
    {
     "name": "stdout",
     "output_type": "stream",
     "text": [
      "imgid: 151, cos_sim_b: 0.7967361211776733, cos_sim_h: 0.8746852874755859\n"
     ]
    },
    {
     "name": "stderr",
     "output_type": "stream",
     "text": [
      "AA: 100%|██████████| 40/40 [00:08<00:00,  4.78it/s, loss=3.66e+3]\n"
     ]
    },
    {
     "name": "stdout",
     "output_type": "stream",
     "text": [
      "imgid: 152, cos_sim_b: 0.8824211359024048, cos_sim_h: 0.8685058355331421\n"
     ]
    },
    {
     "name": "stderr",
     "output_type": "stream",
     "text": [
      "AA: 100%|██████████| 40/40 [00:08<00:00,  4.78it/s, loss=4.33e+3]\n"
     ]
    },
    {
     "name": "stdout",
     "output_type": "stream",
     "text": [
      "imgid: 153, cos_sim_b: 0.8354479670524597, cos_sim_h: 0.8924137949943542\n"
     ]
    },
    {
     "name": "stderr",
     "output_type": "stream",
     "text": [
      "AA: 100%|██████████| 40/40 [00:08<00:00,  4.76it/s, loss=4.95e+3]\n"
     ]
    },
    {
     "name": "stdout",
     "output_type": "stream",
     "text": [
      "imgid: 154, cos_sim_b: 0.8780189752578735, cos_sim_h: 0.930980920791626\n"
     ]
    },
    {
     "name": "stderr",
     "output_type": "stream",
     "text": [
      "AA: 100%|██████████| 40/40 [00:08<00:00,  4.77it/s, loss=4.23e+3]\n"
     ]
    },
    {
     "name": "stdout",
     "output_type": "stream",
     "text": [
      "imgid: 155, cos_sim_b: 0.8733749389648438, cos_sim_h: 0.9195418357849121\n"
     ]
    },
    {
     "name": "stderr",
     "output_type": "stream",
     "text": [
      "AA: 100%|██████████| 40/40 [00:08<00:00,  4.77it/s, loss=3.74e+3]\n"
     ]
    },
    {
     "name": "stdout",
     "output_type": "stream",
     "text": [
      "imgid: 156, cos_sim_b: 0.8280010223388672, cos_sim_h: 0.8668801188468933\n"
     ]
    },
    {
     "name": "stderr",
     "output_type": "stream",
     "text": [
      "AA: 100%|██████████| 40/40 [00:08<00:00,  4.78it/s, loss=3.87e+3]\n"
     ]
    },
    {
     "name": "stdout",
     "output_type": "stream",
     "text": [
      "imgid: 157, cos_sim_b: 0.7143601179122925, cos_sim_h: 0.760715663433075\n"
     ]
    },
    {
     "name": "stderr",
     "output_type": "stream",
     "text": [
      "AA: 100%|██████████| 40/40 [00:08<00:00,  4.77it/s, loss=3.73e+3]\n"
     ]
    },
    {
     "name": "stdout",
     "output_type": "stream",
     "text": [
      "imgid: 158, cos_sim_b: 0.7900718450546265, cos_sim_h: 0.8188254833221436\n"
     ]
    },
    {
     "name": "stderr",
     "output_type": "stream",
     "text": [
      "AA: 100%|██████████| 40/40 [00:08<00:00,  4.78it/s, loss=3.62e+3]\n"
     ]
    },
    {
     "name": "stdout",
     "output_type": "stream",
     "text": [
      "imgid: 159, cos_sim_b: 0.7504822611808777, cos_sim_h: 0.812630832195282\n"
     ]
    },
    {
     "name": "stderr",
     "output_type": "stream",
     "text": [
      "AA: 100%|██████████| 40/40 [00:08<00:00,  4.78it/s, loss=4.08e+3]\n"
     ]
    },
    {
     "name": "stdout",
     "output_type": "stream",
     "text": [
      "imgid: 160, cos_sim_b: 0.810165524482727, cos_sim_h: 0.8643709421157837\n"
     ]
    },
    {
     "name": "stderr",
     "output_type": "stream",
     "text": [
      "AA: 100%|██████████| 40/40 [00:08<00:00,  4.79it/s, loss=3.82e+3]\n"
     ]
    },
    {
     "name": "stdout",
     "output_type": "stream",
     "text": [
      "imgid: 161, cos_sim_b: 0.7807295322418213, cos_sim_h: 0.8417593240737915\n"
     ]
    },
    {
     "name": "stderr",
     "output_type": "stream",
     "text": [
      "AA: 100%|██████████| 40/40 [00:08<00:00,  4.79it/s, loss=3.98e+3]\n"
     ]
    },
    {
     "name": "stdout",
     "output_type": "stream",
     "text": [
      "imgid: 162, cos_sim_b: 0.860838770866394, cos_sim_h: 0.8621094226837158\n"
     ]
    },
    {
     "name": "stderr",
     "output_type": "stream",
     "text": [
      "AA: 100%|██████████| 40/40 [00:08<00:00,  4.80it/s, loss=4.2e+3] \n"
     ]
    },
    {
     "name": "stdout",
     "output_type": "stream",
     "text": [
      "imgid: 163, cos_sim_b: 0.8872803449630737, cos_sim_h: 0.9120203256607056\n"
     ]
    },
    {
     "name": "stderr",
     "output_type": "stream",
     "text": [
      "AA: 100%|██████████| 40/40 [00:08<00:00,  4.81it/s, loss=3.81e+3]\n"
     ]
    },
    {
     "name": "stdout",
     "output_type": "stream",
     "text": [
      "imgid: 164, cos_sim_b: 0.8155772089958191, cos_sim_h: 0.829880952835083\n"
     ]
    },
    {
     "name": "stderr",
     "output_type": "stream",
     "text": [
      "AA: 100%|██████████| 40/40 [00:08<00:00,  4.77it/s, loss=4.48e+3]\n"
     ]
    },
    {
     "name": "stdout",
     "output_type": "stream",
     "text": [
      "imgid: 165, cos_sim_b: 0.8990426063537598, cos_sim_h: 0.9252324104309082\n"
     ]
    },
    {
     "name": "stderr",
     "output_type": "stream",
     "text": [
      "AA: 100%|██████████| 40/40 [00:08<00:00,  4.78it/s, loss=3.65e+3]\n"
     ]
    },
    {
     "name": "stdout",
     "output_type": "stream",
     "text": [
      "imgid: 166, cos_sim_b: 0.846344530582428, cos_sim_h: 0.8159306049346924\n"
     ]
    },
    {
     "name": "stderr",
     "output_type": "stream",
     "text": [
      "AA: 100%|██████████| 40/40 [00:08<00:00,  4.79it/s, loss=4.32e+3]\n"
     ]
    },
    {
     "name": "stdout",
     "output_type": "stream",
     "text": [
      "imgid: 167, cos_sim_b: 0.9169872999191284, cos_sim_h: 0.9182915687561035\n"
     ]
    },
    {
     "name": "stderr",
     "output_type": "stream",
     "text": [
      "AA: 100%|██████████| 40/40 [00:08<00:00,  4.79it/s, loss=4.17e+3]\n"
     ]
    },
    {
     "name": "stdout",
     "output_type": "stream",
     "text": [
      "imgid: 168, cos_sim_b: 0.8402205109596252, cos_sim_h: 0.8758002519607544\n"
     ]
    },
    {
     "name": "stderr",
     "output_type": "stream",
     "text": [
      "AA: 100%|██████████| 40/40 [00:08<00:00,  4.80it/s, loss=3.95e+3]\n"
     ]
    },
    {
     "name": "stdout",
     "output_type": "stream",
     "text": [
      "imgid: 169, cos_sim_b: 0.854954719543457, cos_sim_h: 0.910569429397583\n"
     ]
    },
    {
     "name": "stderr",
     "output_type": "stream",
     "text": [
      "AA: 100%|██████████| 40/40 [00:08<00:00,  4.78it/s, loss=4.35e+3]\n"
     ]
    },
    {
     "name": "stdout",
     "output_type": "stream",
     "text": [
      "imgid: 170, cos_sim_b: 0.9131051301956177, cos_sim_h: 0.9230080842971802\n"
     ]
    },
    {
     "name": "stderr",
     "output_type": "stream",
     "text": [
      "AA: 100%|██████████| 40/40 [00:08<00:00,  4.79it/s, loss=4.27e+3]\n"
     ]
    },
    {
     "name": "stdout",
     "output_type": "stream",
     "text": [
      "imgid: 171, cos_sim_b: 0.8946179151535034, cos_sim_h: 0.920822024345398\n"
     ]
    },
    {
     "name": "stderr",
     "output_type": "stream",
     "text": [
      "AA: 100%|██████████| 40/40 [00:08<00:00,  4.78it/s, loss=4.86e+3]\n"
     ]
    },
    {
     "name": "stdout",
     "output_type": "stream",
     "text": [
      "imgid: 172, cos_sim_b: 0.9240440726280212, cos_sim_h: 0.913062572479248\n"
     ]
    },
    {
     "name": "stderr",
     "output_type": "stream",
     "text": [
      "AA: 100%|██████████| 40/40 [00:08<00:00,  4.79it/s, loss=3.81e+3]\n"
     ]
    },
    {
     "name": "stdout",
     "output_type": "stream",
     "text": [
      "imgid: 173, cos_sim_b: 0.6993691921234131, cos_sim_h: 0.7606196403503418\n"
     ]
    },
    {
     "name": "stderr",
     "output_type": "stream",
     "text": [
      "AA: 100%|██████████| 40/40 [00:08<00:00,  4.78it/s, loss=3.86e+3]\n"
     ]
    },
    {
     "name": "stdout",
     "output_type": "stream",
     "text": [
      "imgid: 174, cos_sim_b: 0.7450478076934814, cos_sim_h: 0.7810871601104736\n"
     ]
    },
    {
     "name": "stderr",
     "output_type": "stream",
     "text": [
      "AA: 100%|██████████| 40/40 [00:08<00:00,  4.79it/s, loss=3.94e+3]\n"
     ]
    },
    {
     "name": "stdout",
     "output_type": "stream",
     "text": [
      "imgid: 175, cos_sim_b: 0.83535236120224, cos_sim_h: 0.877732515335083\n"
     ]
    },
    {
     "name": "stderr",
     "output_type": "stream",
     "text": [
      "AA: 100%|██████████| 40/40 [00:08<00:00,  4.76it/s, loss=4.05e+3]\n"
     ]
    },
    {
     "name": "stdout",
     "output_type": "stream",
     "text": [
      "imgid: 176, cos_sim_b: 0.7928352952003479, cos_sim_h: 0.8225570917129517\n"
     ]
    },
    {
     "name": "stderr",
     "output_type": "stream",
     "text": [
      "AA: 100%|██████████| 40/40 [00:08<00:00,  4.77it/s, loss=3.92e+3]\n"
     ]
    },
    {
     "name": "stdout",
     "output_type": "stream",
     "text": [
      "imgid: 177, cos_sim_b: 0.7249441146850586, cos_sim_h: 0.7961461544036865\n"
     ]
    },
    {
     "name": "stderr",
     "output_type": "stream",
     "text": [
      "AA: 100%|██████████| 40/40 [00:08<00:00,  4.77it/s, loss=4.15e+3]\n"
     ]
    },
    {
     "name": "stdout",
     "output_type": "stream",
     "text": [
      "imgid: 178, cos_sim_b: 0.8059366941452026, cos_sim_h: 0.8311322927474976\n"
     ]
    },
    {
     "name": "stderr",
     "output_type": "stream",
     "text": [
      "AA: 100%|██████████| 40/40 [00:08<00:00,  4.77it/s, loss=3.44e+3]\n"
     ]
    },
    {
     "name": "stdout",
     "output_type": "stream",
     "text": [
      "imgid: 179, cos_sim_b: 0.8146665692329407, cos_sim_h: 0.8593429327011108\n"
     ]
    },
    {
     "name": "stderr",
     "output_type": "stream",
     "text": [
      "AA: 100%|██████████| 40/40 [00:08<00:00,  4.76it/s, loss=3.95e+3]\n"
     ]
    },
    {
     "name": "stdout",
     "output_type": "stream",
     "text": [
      "imgid: 180, cos_sim_b: 0.9200517535209656, cos_sim_h: 0.920626163482666\n"
     ]
    },
    {
     "name": "stderr",
     "output_type": "stream",
     "text": [
      "AA: 100%|██████████| 40/40 [00:08<00:00,  4.77it/s, loss=3.36e+3]\n"
     ]
    },
    {
     "name": "stdout",
     "output_type": "stream",
     "text": [
      "imgid: 181, cos_sim_b: 0.7156429290771484, cos_sim_h: 0.7366037964820862\n"
     ]
    },
    {
     "name": "stderr",
     "output_type": "stream",
     "text": [
      "AA: 100%|██████████| 40/40 [00:08<00:00,  4.79it/s, loss=3.31e+3]\n"
     ]
    },
    {
     "name": "stdout",
     "output_type": "stream",
     "text": [
      "imgid: 182, cos_sim_b: 0.9045782089233398, cos_sim_h: 0.9289032220840454\n"
     ]
    },
    {
     "name": "stderr",
     "output_type": "stream",
     "text": [
      "AA: 100%|██████████| 40/40 [00:08<00:00,  4.77it/s, loss=3.47e+3]\n"
     ]
    },
    {
     "name": "stdout",
     "output_type": "stream",
     "text": [
      "imgid: 183, cos_sim_b: 0.7969548106193542, cos_sim_h: 0.8130601644515991\n"
     ]
    },
    {
     "name": "stderr",
     "output_type": "stream",
     "text": [
      "AA: 100%|██████████| 40/40 [00:08<00:00,  4.77it/s, loss=4.31e+3]\n"
     ]
    },
    {
     "name": "stdout",
     "output_type": "stream",
     "text": [
      "imgid: 184, cos_sim_b: 0.8375529646873474, cos_sim_h: 0.9185199737548828\n"
     ]
    },
    {
     "name": "stderr",
     "output_type": "stream",
     "text": [
      "AA: 100%|██████████| 40/40 [00:08<00:00,  4.78it/s, loss=4.09e+3]\n"
     ]
    },
    {
     "name": "stdout",
     "output_type": "stream",
     "text": [
      "imgid: 185, cos_sim_b: 0.8138453960418701, cos_sim_h: 0.8887514472007751\n"
     ]
    },
    {
     "name": "stderr",
     "output_type": "stream",
     "text": [
      "AA: 100%|██████████| 40/40 [00:08<00:00,  4.77it/s, loss=3.71e+3]\n"
     ]
    },
    {
     "name": "stdout",
     "output_type": "stream",
     "text": [
      "imgid: 186, cos_sim_b: 0.7951574325561523, cos_sim_h: 0.834670901298523\n"
     ]
    },
    {
     "name": "stderr",
     "output_type": "stream",
     "text": [
      "AA: 100%|██████████| 40/40 [00:08<00:00,  4.77it/s, loss=3.72e+3]\n"
     ]
    },
    {
     "name": "stdout",
     "output_type": "stream",
     "text": [
      "imgid: 187, cos_sim_b: 0.6572454571723938, cos_sim_h: 0.7163495421409607\n"
     ]
    },
    {
     "name": "stderr",
     "output_type": "stream",
     "text": [
      "AA: 100%|██████████| 40/40 [00:08<00:00,  4.77it/s, loss=4.21e+3]\n"
     ]
    },
    {
     "name": "stdout",
     "output_type": "stream",
     "text": [
      "imgid: 188, cos_sim_b: 0.7832022905349731, cos_sim_h: 0.8178119659423828\n"
     ]
    },
    {
     "name": "stderr",
     "output_type": "stream",
     "text": [
      "AA: 100%|██████████| 40/40 [00:08<00:00,  4.76it/s, loss=3.43e+3]\n"
     ]
    },
    {
     "name": "stdout",
     "output_type": "stream",
     "text": [
      "imgid: 189, cos_sim_b: 0.8257619142532349, cos_sim_h: 0.8511039614677429\n"
     ]
    },
    {
     "name": "stderr",
     "output_type": "stream",
     "text": [
      "AA: 100%|██████████| 40/40 [00:08<00:00,  4.78it/s, loss=3.48e+3]\n"
     ]
    },
    {
     "name": "stdout",
     "output_type": "stream",
     "text": [
      "imgid: 190, cos_sim_b: 0.8247328400611877, cos_sim_h: 0.8367587924003601\n"
     ]
    },
    {
     "name": "stderr",
     "output_type": "stream",
     "text": [
      "AA: 100%|██████████| 40/40 [00:08<00:00,  4.77it/s, loss=3.48e+3]\n"
     ]
    },
    {
     "name": "stdout",
     "output_type": "stream",
     "text": [
      "imgid: 191, cos_sim_b: 0.8638178110122681, cos_sim_h: 0.936142086982727\n"
     ]
    },
    {
     "name": "stderr",
     "output_type": "stream",
     "text": [
      "AA: 100%|██████████| 40/40 [00:08<00:00,  4.79it/s, loss=2.97e+3]\n"
     ]
    },
    {
     "name": "stdout",
     "output_type": "stream",
     "text": [
      "imgid: 192, cos_sim_b: 0.8178970813751221, cos_sim_h: 0.8146982192993164\n"
     ]
    },
    {
     "name": "stderr",
     "output_type": "stream",
     "text": [
      "AA: 100%|██████████| 40/40 [00:08<00:00,  4.77it/s, loss=4.03e+3]\n"
     ]
    },
    {
     "name": "stdout",
     "output_type": "stream",
     "text": [
      "imgid: 193, cos_sim_b: 0.7649483680725098, cos_sim_h: 0.8464410305023193\n"
     ]
    },
    {
     "name": "stderr",
     "output_type": "stream",
     "text": [
      "AA: 100%|██████████| 40/40 [00:08<00:00,  4.78it/s, loss=4.33e+3]\n"
     ]
    },
    {
     "name": "stdout",
     "output_type": "stream",
     "text": [
      "imgid: 194, cos_sim_b: 0.9489012956619263, cos_sim_h: 0.9338937401771545\n"
     ]
    },
    {
     "name": "stderr",
     "output_type": "stream",
     "text": [
      "AA: 100%|██████████| 40/40 [00:08<00:00,  4.77it/s, loss=3.82e+3]\n"
     ]
    },
    {
     "name": "stdout",
     "output_type": "stream",
     "text": [
      "imgid: 195, cos_sim_b: 0.8350809812545776, cos_sim_h: 0.8795315027236938\n"
     ]
    },
    {
     "name": "stderr",
     "output_type": "stream",
     "text": [
      "AA: 100%|██████████| 40/40 [00:08<00:00,  4.77it/s, loss=4.15e+3]\n"
     ]
    },
    {
     "name": "stdout",
     "output_type": "stream",
     "text": [
      "imgid: 196, cos_sim_b: 0.8949692249298096, cos_sim_h: 0.9352971315383911\n"
     ]
    },
    {
     "name": "stderr",
     "output_type": "stream",
     "text": [
      "AA: 100%|██████████| 40/40 [00:08<00:00,  4.77it/s, loss=3.91e+3]\n"
     ]
    },
    {
     "name": "stdout",
     "output_type": "stream",
     "text": [
      "imgid: 197, cos_sim_b: 0.849301278591156, cos_sim_h: 0.8983582258224487\n"
     ]
    },
    {
     "name": "stderr",
     "output_type": "stream",
     "text": [
      "AA: 100%|██████████| 40/40 [00:08<00:00,  4.76it/s, loss=3.75e+3]\n"
     ]
    },
    {
     "name": "stdout",
     "output_type": "stream",
     "text": [
      "imgid: 198, cos_sim_b: 0.761179506778717, cos_sim_h: 0.8095910549163818\n"
     ]
    },
    {
     "name": "stderr",
     "output_type": "stream",
     "text": [
      "AA: 100%|██████████| 40/40 [00:08<00:00,  4.77it/s, loss=4.21e+3]\n"
     ]
    },
    {
     "name": "stdout",
     "output_type": "stream",
     "text": [
      "imgid: 199, cos_sim_b: 0.8242608308792114, cos_sim_h: 0.8629003763198853\n"
     ]
    },
    {
     "name": "stderr",
     "output_type": "stream",
     "text": [
      "AA: 100%|██████████| 40/40 [00:08<00:00,  4.78it/s, loss=4e+3]   \n"
     ]
    },
    {
     "name": "stdout",
     "output_type": "stream",
     "text": [
      "imgid: 200, cos_sim_b: 0.7456642389297485, cos_sim_h: 0.8053015470504761\n"
     ]
    }
   ],
   "source": [
    "cossim = torch.nn.CosineSimilarity(dim=-1, eps=1e-6)\n",
    "cos_sim_b_list_AA = []\n",
    "cos_sim_h_list_AA = []\n",
    "for imgid in range(1, 201):\n",
    "    imgpath = f'{SAM_DATASET_PATH}sa_{imgid}.jpg'\n",
    "    samb.set_clean_cv2_image(imgpath)\n",
    "    clean_features = samb.model.image_encoder.hook_feature_list[-1]\n",
    "    N, C, H, W = clean_features.shape\n",
    "    adv_AA_input = samb.AA(imgpath)\n",
    "    adv_AA_cv2 = samb.get_cv2_from_torch(adv_AA_input)\n",
    "\n",
    "    samb.set_image(adv_AA_cv2)\n",
    "    adv_features = samb.model.image_encoder.hook_feature_list[-1]\n",
    "    cos_sim_b = cossim(clean_features.reshape(N, C, -1), adv_features.reshape(N, C, -1)).mean()\n",
    "    cos_sim_b_list_AA.append(cos_sim_b.item())\n",
    "\n",
    "    samh.set_clean_cv2_image(imgpath)\n",
    "    clean_features = samh.model.image_encoder.hook_feature_list[-1]\n",
    "    N, C, H, W = clean_features.shape\n",
    "    samh.set_image(adv_AA_cv2)\n",
    "    adv_features = samh.model.image_encoder.hook_feature_list[-1]\n",
    "    cos_sim_h = cossim(clean_features.reshape(N, C, -1), adv_features.reshape(N, C, -1)).mean()\n",
    "    cos_sim_h_list_AA.append(cos_sim_h.item())\n",
    "    print(f'imgid: {imgid}, cos_sim_b: {cos_sim_b.item()}, cos_sim_h: {cos_sim_h.item()}')\n",
    "    if imgid % 20 == 0:\n",
    "        # save the results\n",
    "        np.save(f'{PROJECT_PATH}/exp/feature_distance200/cos_sim_b_list_AA.npy', cos_sim_b_list_AA)\n",
    "        np.save(f'{PROJECT_PATH}/exp/feature_distance200/cos_sim_h_list_AA.npy', cos_sim_h_list_AA)"
   ]
  },
  {
   "cell_type": "code",
   "execution_count": 7,
   "metadata": {},
   "outputs": [
    {
     "data": {
      "image/png": "[encoded data removed]",
      "text/plain": [
       "<Figure size 640x480 with 1 Axes>"
      ]
     },
     "metadata": {},
     "output_type": "display_data"
    }
   ],
   "source": [
    "import matplotlib.pyplot as plt\n",
    "from scipy.stats import norm\n",
    "\n",
    "list1 = np.load(f'{PROJECT_PATH}/exp/feature_distance200/cos_sim_b_list_AA.npy')\n",
    "list2 = np.load(f'{PROJECT_PATH}/exp/feature_distance200/cos_sim_h_list_AA.npy')\n",
    "\n",
    "data_min = min(min(list1), min(list2))\n",
    "data_max = max(max(list1), max(list2))\n",
    "\n",
    "bin_width = (data_max - data_min) / 100\n",
    "\n",
    "# 计算每个列表的bins边界，确保bins宽度一致\n",
    "bins_list1 = np.arange(start=data_min, stop=data_max, step=bin_width)\n",
    "bins_list2 = np.arange(start=data_min, stop=data_max, step=bin_width)\n",
    "\n",
    "\n",
    "bins1_midpoints = (bins_list1[:-1] + bins_list1[1:]) / 2\n",
    "bins2_midpoints = (bins_list2[:-1] + bins_list2[1:]) / 2\n",
    "pdf1 = norm.pdf(bins1_midpoints, np.mean(list1), np.std(list1))\n",
    "pdf2 = norm.pdf(bins2_midpoints, np.mean(list2), np.std(list2))\n",
    "\n",
    "# 绘制直方图，alpha值设置透明度为50%\n",
    "plt.title('Feature Similarity Distribution of Targeted Feature Disruption (AA)')\n",
    "plt.hist(list1, bins=bins_list1, alpha=0.5, color='blue', label='source model')\n",
    "plt.hist(list2, bins=bins_list2, alpha=0.5, color='red', label='black-box model')\n",
    "plt.xlabel('feature cosine similarity between clean and adversarial image')\n",
    "plt.ylabel('number of samples')\n",
    "\n",
    "plt.plot(bins1_midpoints, pdf1, 'b--', linewidth=2)\n",
    "plt.plot(bins2_midpoints, pdf2, 'r--', linewidth=2)\n",
    "plt.legend()\n",
    "plt.tight_layout()\n",
    "plt.savefig(f'{PROJECT_PATH}/exp/feature_distance200/target_sim_hist.png')\n",
    "plt.show()"
   ]
  }
 ],
 "metadata": {
  "kernelspec": {
   "display_name": "unsegment",
   "language": "python",
   "name": "python3"
  },
  "language_info": {
   "codemirror_mode": {
    "name": "ipython",
    "version": 3
   },
   "file_extension": ".py",
   "mimetype": "text/x-python",
   "name": "python",
   "nbconvert_exporter": "python",
   "pygments_lexer": "ipython3",
   "version": "3.9.19"
  }
 },
 "nbformat": 4,
 "nbformat_minor": 2
}
